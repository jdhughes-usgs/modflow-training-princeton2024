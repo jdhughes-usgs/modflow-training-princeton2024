{
 "cells": [
  {
   "cell_type": "markdown",
   "id": "1474e527",
   "metadata": {},
   "source": [
    "## Particle tracking with MODFLOW 6 PRT\n",
    "\n",
    "This notebook demonstrates particle tracking with MODFLOW 6 PRT and\n",
    "MODPATH 7 side-by-side. First an example problem from the MODPATH 7\n",
    "documentation is solved by equivalent PRT and MP7 models. Next, a\n",
    "DISV model is created to demonstrate PRT's ability to handle DISV\n",
    "(unstructured vertex) grids with non-rectangular polygonal cells.\n",
    "\n",
    "First import dependencies."
   ]
  },
  {
   "cell_type": "code",
   "execution_count": null,
   "id": "2a713063",
   "metadata": {},
   "outputs": [],
   "source": [
    "import pathlib as pl\n",
    "import flopy\n",
    "import matplotlib as mpl\n",
    "import matplotlib.pyplot as plt\n",
    "import numpy as np\n",
    "import pandas as pd\n",
    "import pyvista as pv\n",
    "import warnings\n",
    "from flopy.export.vtk import Vtk\n",
    "from flopy.utils.gridgen import Gridgen\n",
    "from flopy.utils.gridintersect import GridIntersect\n",
    "from flopy.discretization import VertexGrid\n",
    "from flopy.utils.triangle import Triangle as Triangle\n",
    "from flopy.utils.voronoi import VoronoiGrid\n",
    "from shapely.geometry import LineString, Point, MultiPoint, Polygon\n",
    "from matplotlib import colormaps as cm"
   ]
  },
  {
   "cell_type": "markdown",
   "id": "9ef9e390",
   "metadata": {},
   "source": [
    "Suppress warnings."
   ]
  },
  {
   "cell_type": "code",
   "execution_count": null,
   "id": "b0edbe0b",
   "metadata": {},
   "outputs": [],
   "source": [
    "warnings.simplefilter(\"ignore\", UserWarning)\n",
    "warnings.simplefilter(\"ignore\", DeprecationWarning)"
   ]
  },
  {
   "cell_type": "markdown",
   "id": "2a85afaa",
   "metadata": {},
   "source": [
    "Make sure GRIDGEN, Triangle, and MODPATH 7 are installed."
   ]
  },
  {
   "cell_type": "code",
   "execution_count": null,
   "id": "683adce3",
   "metadata": {},
   "outputs": [],
   "source": [
    "flopy.utils.get_modflow(\":python\", subset=\"gridgen,triangle,mp7\")"
   ]
  },
  {
   "cell_type": "markdown",
   "id": "0990921f",
   "metadata": {},
   "source": [
    "Define the base workspace."
   ]
  },
  {
   "cell_type": "code",
   "execution_count": null,
   "id": "eb69c70c",
   "metadata": {},
   "outputs": [],
   "source": [
    "example_name = \"tracking\"\n",
    "base_ws = pl.Path(\"temp\") / example_name"
   ]
  },
  {
   "cell_type": "markdown",
   "id": "8302fb9c",
   "metadata": {},
   "source": [
    "### MODPATH 7 Example Problem 2\n",
    "\n",
    "This problem is reproduced from the MODPATH 7 user guide examples\n",
    "document ([Pollock, 2016](http://dx.doi.org/10.3133/ofr20161086))."
   ]
  },
  {
   "cell_type": "markdown",
   "id": "cfc6016d",
   "metadata": {},
   "source": [
    "The flow system consists of two aquifers with a low conductivity\n",
    "confining layer in between. The model grid is roughly square. There is\n",
    "a quad-refined region around a central well and a river runs along the\n",
    "grid's eastern boundary.\n",
    "\n",
    "Particles are released from the four lateral faces of the well and tracked\n",
    "backwards to recharge points at the water table.\n"
   ]
  },
  {
   "cell_type": "markdown",
   "id": "f33c8aca",
   "metadata": {},
   "source": [
    "#### Grid refinement\n",
    "\n",
    "Our first step is to create a quad-refined grid. For this we will use the [GRIDGEN](https://www.usgs.gov/software/gridgen-program-generating-unstructured-finite-volume-grids) program.\n",
    "\n",
    "The grid will have 3 refinement levels. First we create a \"dummy\" structured grid discretization to use as a base for refinement."
   ]
  },
  {
   "cell_type": "code",
   "execution_count": null,
   "id": "222e04e5",
   "metadata": {},
   "outputs": [],
   "source": [
    "# Base grid properties\n",
    "Lx = 10000.0\n",
    "Ly = 10500.0\n",
    "nlay = 3\n",
    "nrow = 21\n",
    "ncol = 20\n",
    "delr = Lx / ncol\n",
    "delc = Ly / nrow\n",
    "top = 400\n",
    "botm = [220, 200, 0]"
   ]
  },
  {
   "cell_type": "code",
   "execution_count": null,
   "id": "f4a4dcdd",
   "metadata": {},
   "outputs": [],
   "source": [
    "# Create a \"dummy\" discretization\n",
    "ms = flopy.modflow.Modflow()\n",
    "dis = flopy.modflow.ModflowDis(\n",
    "    ms,\n",
    "    nlay=nlay,\n",
    "    nrow=nrow,\n",
    "    ncol=ncol,\n",
    "    delr=delr,\n",
    "    delc=delc,\n",
    "    top=top,\n",
    "    botm=botm,\n",
    ")"
   ]
  },
  {
   "cell_type": "markdown",
   "id": "a6c9a127",
   "metadata": {},
   "source": [
    "We are now ready to refine the grid."
   ]
  },
  {
   "cell_type": "code",
   "execution_count": null,
   "id": "c8cd60cc",
   "metadata": {},
   "outputs": [],
   "source": [
    "# Create gridgen workspace and object\n",
    "gridgen_ws = base_ws / \"gridgen\"\n",
    "gridgen_ws.mkdir(parents=True, exist_ok=True)\n",
    "gridgen = Gridgen(ms.modelgrid, model_ws=gridgen_ws)"
   ]
  },
  {
   "cell_type": "code",
   "execution_count": null,
   "id": "6cc5af60",
   "metadata": {},
   "outputs": [],
   "source": [
    "# Define refinement polygons\n",
    "ref_polys = [\n",
    "    [[(3500, 4000), (3500, 6500), (6000, 6500), (6000, 4000), (3500, 4000)]],  # outer\n",
    "    [[(4000, 4500), (4000, 6000), (5500, 6000), (5500, 4500), (4000, 4500)]],  # middle\n",
    "    [[(4500, 5000), (4500, 5500), (5000, 5500), (5000, 5000), (4500, 5000)]],  # inner\n",
    "]\n",
    "ref_paths = []\n",
    "for i, poly in enumerate(ref_polys):\n",
    "    gridgen.add_refinement_features([poly], \"polygon\", i + 1, range(nlay))\n",
    "    ref_paths.append(gridgen_ws / f\"rf{i}\")"
   ]
  },
  {
   "cell_type": "code",
   "execution_count": null,
   "id": "a0dd4a54",
   "metadata": {},
   "outputs": [],
   "source": [
    "# Build the refined grid\n",
    "gridgen.build(verbose=False)\n",
    "grid_props = gridgen.get_gridprops_vertexgrid()\n",
    "disv_props = gridgen.get_gridprops_disv()\n",
    "grid = flopy.discretization.VertexGrid(**grid_props)"
   ]
  },
  {
   "cell_type": "code",
   "execution_count": null,
   "id": "f948f3ef",
   "metadata": {},
   "outputs": [],
   "source": [
    "# Extract refined grid properties\n",
    "ncpl = disv_props[\"ncpl\"]\n",
    "top = disv_props[\"top\"]\n",
    "botm = disv_props[\"botm\"]\n",
    "nvert = disv_props[\"nvert\"]\n",
    "vertices = disv_props[\"vertices\"]\n",
    "cell2d = disv_props[\"cell2d\"]"
   ]
  },
  {
   "cell_type": "code",
   "execution_count": null,
   "id": "ae7619c2",
   "metadata": {},
   "outputs": [],
   "source": [
    "# Plot the grid with refinement levels superimposed.\n",
    "grid.plot()\n",
    "for i, path in enumerate(ref_paths):\n",
    "    flopy.plot.plot_shapefile(path, ax=plt.gca(), facecolor=\"green\", edgecolor=\"none\", alpha=(i + 1) / 3)\n",
    "plt.show()"
   ]
  },
  {
   "cell_type": "markdown",
   "id": "7833ae1a",
   "metadata": {},
   "source": [
    "#### Groundwater flow model\n",
    "\n",
    "We are ready to create the GWF model. First, define the model name, workspace, units, and some parameters."
   ]
  },
  {
   "cell_type": "markdown",
   "id": "e7dc906d",
   "metadata": {},
   "source": [
    "Define the model name and workspace."
   ]
  },
  {
   "cell_type": "code",
   "execution_count": null,
   "id": "f49cb8a2",
   "metadata": {},
   "outputs": [],
   "source": [
    "gwf_name = f\"{example_name}-gwf\"\n",
    "gwf_ws = base_ws / \"gwf\"\n",
    "gwf_ws.mkdir(exist_ok=True, parents=True)"
   ]
  },
  {
   "cell_type": "markdown",
   "id": "6e5e4a4a",
   "metadata": {},
   "source": [
    "Define model units."
   ]
  },
  {
   "cell_type": "code",
   "execution_count": null,
   "id": "92a89824",
   "metadata": {},
   "outputs": [],
   "source": [
    "length_units = \"feet\"\n",
    "time_units = \"days\""
   ]
  },
  {
   "cell_type": "markdown",
   "id": "2280c951",
   "metadata": {},
   "source": [
    "Define model parameters."
   ]
  },
  {
   "cell_type": "code",
   "execution_count": null,
   "id": "91bbf7b6",
   "metadata": {},
   "outputs": [],
   "source": [
    "nper = 1  # Number of periods\n",
    "nlay = 3  # Number of layers (base grid)\n",
    "nrow = 21  # Number of rows (base grid)\n",
    "ncol = 20  # Number of columns (base grid)\n",
    "delr = 500.0  # Column width ($ft$)\n",
    "delc = 500.0  # Row width ($ft$)\n",
    "top = 400.0  # Top of the model ($ft$)\n",
    "botm = [220.0, 200.0, 0.0]  # Layer bottom elevations ($ft$)\n",
    "porosity = 0.1  # Soil porosity (unitless)\n",
    "rrch = 0.005  # Recharge rate ($ft/d$)\n",
    "kh = [50.0, 0.01, 200.0]  # Horizontal hydraulic conductivity ($ft/d$)\n",
    "kv = [10.0, 0.01, 20.0]  # Vertical hydraulic conductivity ($ft/d$)\n",
    "wel_q = -150000.0  # Well pumping rate ($ft^3/d$)\n",
    "riv_h = 320.0  # River stage ($ft$)\n",
    "riv_z = 317.0  # River bottom ($ft$)\n",
    "riv_c = 1.0e5  # River conductance ($ft^2/d$)"
   ]
  },
  {
   "cell_type": "markdown",
   "id": "1c885af1",
   "metadata": {},
   "source": [
    "Define the time discretization."
   ]
  },
  {
   "cell_type": "code",
   "execution_count": null,
   "id": "a90d33ab",
   "metadata": {},
   "outputs": [],
   "source": [
    "nstp = 1\n",
    "perlen = 1000.0\n",
    "tsmult = 1.0\n",
    "tdis_rc = [(perlen, nstp, tsmult)]"
   ]
  },
  {
   "cell_type": "markdown",
   "id": "b0f1832f",
   "metadata": {},
   "source": [
    "Now we can begin to construct the GWF model."
   ]
  },
  {
   "cell_type": "code",
   "execution_count": null,
   "id": "6722238f",
   "metadata": {},
   "outputs": [],
   "source": [
    "sim = flopy.mf6.MFSimulation(\n",
    "    sim_name=gwf_name, exe_name=\"mf6\", version=\"mf6\", sim_ws=gwf_ws\n",
    ")\n",
    "tdis = flopy.mf6.ModflowTdis(\n",
    "    sim, pname=\"tdis\", time_units=\"DAYS\", perioddata=tdis_rc, nper=len(tdis_rc)\n",
    ")\n",
    "gwf = flopy.mf6.ModflowGwf(\n",
    "    sim, modelname=gwf_name, model_nam_file=\"{}.nam\".format(gwf_name)\n",
    ")\n",
    "gwf.name_file.save_flows = True\n",
    "disv = flopy.mf6.ModflowGwfdisv(\n",
    "    gwf,\n",
    "    length_units=length_units,\n",
    "    **disv_props,  # from grid refinement above\n",
    ")\n",
    "ic = flopy.mf6.ModflowGwfic(gwf, pname=\"ic\", strt=riv_h)  # initial heads at river stage\n",
    "npf = flopy.mf6.ModflowGwfnpf(\n",
    "    gwf,\n",
    "    xt3doptions=[(\"xt3d\")],\n",
    "    icelltype=[1, 0, 0],\n",
    "    k=kh,\n",
    "    k33=kv,\n",
    "    save_saturation=True,\n",
    "    save_specific_discharge=True,\n",
    ")"
   ]
  },
  {
   "cell_type": "markdown",
   "id": "425abb7f",
   "metadata": {},
   "source": [
    "Define the model's boundary conditions. These include a well, a river, and recharge. Instead of manually setting cell IDs for the well and river, we will determine cell IDs by defining boundary coordinates and intersecting them with the grid."
   ]
  },
  {
   "cell_type": "code",
   "execution_count": null,
   "id": "ddd34aab",
   "metadata": {},
   "outputs": [],
   "source": [
    "# Create intersection object\n",
    "ix = GridIntersect(gwf.modelgrid, method=\"vertex\", rtree=True)"
   ]
  },
  {
   "cell_type": "code",
   "execution_count": null,
   "id": "821691af",
   "metadata": {},
   "outputs": [],
   "source": [
    "# Create the well package\n",
    "wel_coords = [(4718.45, 5281.25)]\n",
    "welcells = ix.intersects(MultiPoint(wel_coords))\n",
    "welcells = [icpl for (icpl,) in welcells]\n",
    "welspd = [[(2, icpl), -150000.0] for icpl in welcells]\n",
    "wel = flopy.mf6.ModflowGwfwel(gwf, print_input=True, stress_period_data=welspd)"
   ]
  },
  {
   "cell_type": "code",
   "execution_count": null,
   "id": "036f9ff1",
   "metadata": {},
   "outputs": [],
   "source": [
    "# Create the river package\n",
    "riv_iface = 6\n",
    "riv_iflowface = -1\n",
    "riverline = [(Lx - 1.0, Ly), (Lx - 1.0, 0.0)]\n",
    "rivcells = ix.intersects(LineString(riverline))\n",
    "rivcells = [icpl for (icpl,) in rivcells]\n",
    "rivspd = [\n",
    "    [(0, icpl), riv_h, riv_c, riv_z, riv_iface, riv_iflowface] for icpl in rivcells\n",
    "]\n",
    "riv = flopy.mf6.ModflowGwfriv(\n",
    "    gwf, stress_period_data=rivspd, auxiliary=[(\"iface\", \"iflowface\")]\n",
    ")"
   ]
  },
  {
   "cell_type": "code",
   "execution_count": null,
   "id": "1e670e31",
   "metadata": {},
   "outputs": [],
   "source": [
    "# Create the recharge package\n",
    "rch_iface = 6\n",
    "rch_iflowface = -1\n",
    "rch = flopy.mf6.ModflowGwfrcha(\n",
    "    gwf,\n",
    "    recharge=rrch,\n",
    "    auxiliary=[\"iface\", \"iflowface\"],\n",
    "    aux=[rch_iface, rch_iflowface],\n",
    ")"
   ]
  },
  {
   "cell_type": "markdown",
   "id": "7b26c5a3",
   "metadata": {},
   "source": [
    "Finally we can create the output control and solver packages."
   ]
  },
  {
   "cell_type": "code",
   "execution_count": null,
   "id": "7245bbf7",
   "metadata": {},
   "outputs": [],
   "source": [
    "# Create the output control package\n",
    "headfile_name = \"{}.hds\".format(gwf_name)\n",
    "budgetfile_name = \"{}.cbb\".format(gwf_name)\n",
    "oc = flopy.mf6.ModflowGwfoc(\n",
    "    gwf,\n",
    "    pname=\"oc\",\n",
    "    budget_filerecord=[budgetfile_name],\n",
    "    head_filerecord=[headfile_name],\n",
    "    headprintrecord=[(\"COLUMNS\", 10, \"WIDTH\", 15, \"DIGITS\", 6, \"GENERAL\")],\n",
    "    saverecord=[(\"HEAD\", \"ALL\"), (\"BUDGET\", \"ALL\")],\n",
    "    printrecord=[(\"HEAD\", \"ALL\"), (\"BUDGET\", \"ALL\")],\n",
    ")"
   ]
  },
  {
   "cell_type": "code",
   "execution_count": null,
   "id": "4ef0133a",
   "metadata": {},
   "outputs": [],
   "source": [
    "# Create the iterative model solution (IMS) package and register it with the model.\n",
    "ims = flopy.mf6.ModflowIms(\n",
    "    sim,\n",
    "    pname=\"ims\",\n",
    "    outer_dvclose=1.0e-5,\n",
    "    outer_maximum=100,\n",
    "    under_relaxation=\"NONE\",\n",
    "    inner_maximum=100,\n",
    "    inner_dvclose=1.0e-6,\n",
    "    rcloserecord=0.1,\n",
    "    linear_acceleration=\"BICGSTAB\",\n",
    "    scaling_method=\"NONE\",\n",
    "    reordering_method=\"NONE\",\n",
    "    relaxation_factor=0.99,\n",
    ")\n",
    "sim.register_ims_package(ims, [gwf.name])"
   ]
  },
  {
   "cell_type": "markdown",
   "id": "2fc1c66b",
   "metadata": {},
   "source": [
    "We can now write and run the GWF simulation."
   ]
  },
  {
   "cell_type": "code",
   "execution_count": null,
   "id": "37fa63c5",
   "metadata": {},
   "outputs": [],
   "source": [
    "sim.write_simulation(silent=False)\n",
    "sim.run_simulation(silent=False)"
   ]
  },
  {
   "cell_type": "markdown",
   "id": "cc449183",
   "metadata": {},
   "source": [
    "Load head output from the flow model."
   ]
  },
  {
   "cell_type": "code",
   "execution_count": null,
   "id": "d4770c6c",
   "metadata": {},
   "outputs": [],
   "source": [
    "hds = gwf.output.head().get_data()"
   ]
  },
  {
   "cell_type": "markdown",
   "id": "9b4b9988",
   "metadata": {},
   "source": [
    "Plot the heads."
   ]
  },
  {
   "cell_type": "code",
   "execution_count": null,
   "id": "cae290d9",
   "metadata": {},
   "outputs": [],
   "source": [
    "fig = plt.figure(figsize=(5, 5))\n",
    "fig.tight_layout()\n",
    "ax = fig.add_subplot(1, 1, 1, aspect=\"equal\")\n",
    "mm = flopy.plot.PlotMapView(gwf, ax=ax, layer=2)\n",
    "mm.plot_grid(alpha=0.25)\n",
    "mm.plot_bc(\"WEL\", plotAll=True, color=\"red\")\n",
    "mm.plot_bc(\"RIV\", plotAll=True, color=\"teal\")\n",
    "pc = mm.plot_array(hds[:, 0, :], edgecolor=\"black\", alpha=0.5)\n",
    "cb = plt.colorbar(pc, shrink=0.25, pad=0.1)\n",
    "cb.ax.set_xlabel(r\"Head ($ft$)\")\n",
    "plt.show()"
   ]
  },
  {
   "cell_type": "markdown",
   "id": "6e3df5ea",
   "metadata": {},
   "source": [
    "#### MODPATH 7 Model\n",
    "\n",
    "Next, we can create a MODPATH 7 particle tracking model using the flow model we just created. The first step is to define the particle release configuration. We distribute particles evenly around the 4 lateral faces of the well."
   ]
  },
  {
   "cell_type": "code",
   "execution_count": null,
   "id": "8ebce2de",
   "metadata": {},
   "outputs": [],
   "source": [
    "face_data = flopy.modpath.FaceDataType(\n",
    "    rowdivisions5=0,\n",
    "    columndivisions5=0,\n",
    "    rowdivisions6=0,\n",
    "    columndivisions6=0\n",
    ")\n",
    "particle_data = flopy.modpath.NodeParticleData(\n",
    "    nodes=ncpl * 2 + welcells[0],\n",
    "    subdivisiondata=face_data\n",
    ")\n",
    "particle_group = flopy.modpath.ParticleGroupNodeTemplate(\n",
    "    particlegroupname=\"PG\",\n",
    "    particledata=particle_data,\n",
    "    filename=\"pg.sloc\",\n",
    ")"
   ]
  },
  {
   "cell_type": "markdown",
   "id": "a5deafd9",
   "metadata": {},
   "source": [
    "Now define the model name and workspace."
   ]
  },
  {
   "cell_type": "code",
   "execution_count": null,
   "id": "c65f0517",
   "metadata": {},
   "outputs": [],
   "source": [
    "mp7_name = f\"{example_name}-mp7\"\n",
    "mp7_ws = base_ws / \"mp7\"\n",
    "mp7_ws.mkdir(exist_ok=True, parents=True)"
   ]
  },
  {
   "cell_type": "markdown",
   "id": "bde5f8fd",
   "metadata": {},
   "source": [
    "Build the MP7 model."
   ]
  },
  {
   "cell_type": "code",
   "execution_count": null,
   "id": "882745c9",
   "metadata": {},
   "outputs": [],
   "source": [
    "mp7_sim = flopy.modpath.Modpath7(\n",
    "    modelname=mp7_name,\n",
    "    flowmodel=gwf,\n",
    "    exe_name=\"mp7\",\n",
    "    model_ws=mp7_ws,\n",
    "    budgetfilename=budgetfile_name,\n",
    "    headfilename=headfile_name,\n",
    ")"
   ]
  },
  {
   "cell_type": "code",
   "execution_count": null,
   "id": "588829d2",
   "metadata": {},
   "outputs": [],
   "source": [
    "mp7_bas = flopy.modpath.Modpath7Bas(mp7_sim, porosity=porosity)"
   ]
  },
  {
   "cell_type": "code",
   "execution_count": null,
   "id": "291efdf6",
   "metadata": {},
   "outputs": [],
   "source": [
    "mp7 = flopy.modpath.Modpath7Sim(\n",
    "    mp7_sim,\n",
    "    simulationtype=\"combined\",\n",
    "    trackingdirection=\"backward\",\n",
    "    weaksinkoption=\"pass_through\",\n",
    "    weaksourceoption=\"pass_through\",\n",
    "    referencetime=0.0,\n",
    "    stoptimeoption=\"extend\",\n",
    "    timepointdata=[500, 1000.0],\n",
    "    particlegroups=[particle_group],\n",
    ")"
   ]
  },
  {
   "cell_type": "markdown",
   "id": "a8b9772c",
   "metadata": {},
   "source": [
    "Write and run the MP7 model."
   ]
  },
  {
   "cell_type": "code",
   "execution_count": null,
   "id": "3cd7ca9b",
   "metadata": {},
   "outputs": [],
   "source": [
    "mp7_sim.write_input()\n",
    "mp7_sim.run_model(silent=False)"
   ]
  },
  {
   "cell_type": "markdown",
   "id": "90725c67",
   "metadata": {},
   "source": [
    "Load pathlines from the MP7 pathline output file."
   ]
  },
  {
   "cell_type": "code",
   "execution_count": null,
   "id": "686689f1",
   "metadata": {},
   "outputs": [],
   "source": [
    "mp7_pathline_file = flopy.utils.PathlineFile(mp7_ws / f\"{mp7_name}.mppth\")\n",
    "mp7_pathlines = pd.DataFrame(\n",
    "    mp7_pathline_file.get_destination_pathline_data(\n",
    "        list(range(gwf.modelgrid.nnodes)), to_recarray=True\n",
    "    )\n",
    ")"
   ]
  },
  {
   "cell_type": "markdown",
   "id": "c889758c",
   "metadata": {},
   "source": [
    "Plot MP7 pathlines in plan view."
   ]
  },
  {
   "cell_type": "code",
   "execution_count": null,
   "id": "22d8cc25",
   "metadata": {},
   "outputs": [],
   "source": [
    "fig = plt.figure(figsize=(5, 5))\n",
    "fig.tight_layout()\n",
    "ax = fig.add_subplot(1, 1, 1, aspect=\"equal\")\n",
    "mm = flopy.plot.PlotMapView(gwf, ax=ax, layer=2)\n",
    "mm.plot_grid(alpha=0.25)\n",
    "mm.plot_bc(\"WEL\", plotAll=True, color=\"red\")\n",
    "mm.plot_bc(\"RIV\", plotAll=True, color=\"teal\")\n",
    "pc = mm.plot_array(hds[:, 0, :], edgecolor=\"black\", alpha=0.5)\n",
    "cb = plt.colorbar(pc, shrink=0.25, pad=0.1)\n",
    "cb.ax.set_xlabel(r\"Head ($ft$)\")\n",
    "mm.plot_pathline(mp7_pathlines, layer=\"all\")\n",
    "plt.show()"
   ]
  },
  {
   "cell_type": "markdown",
   "id": "4d3f6295",
   "metadata": {},
   "source": [
    "Next we can create a 3D pathline plot. The first step is to export results to VTK and convert them to PyVista meshes."
   ]
  },
  {
   "cell_type": "code",
   "execution_count": null,
   "id": "a71ef8e3",
   "metadata": {},
   "outputs": [],
   "source": [
    "vert_exag = 10\n",
    "vtk = Vtk(model=gwf, binary=False, vertical_exageration=vert_exag, smooth=False)\n",
    "vtk.add_model(gwf)\n",
    "vtk.add_pathline_points(mp7_pathlines.to_records(index=False))\n",
    "gwf_mesh, mp7_mesh = vtk.to_pyvista()"
   ]
  },
  {
   "cell_type": "markdown",
   "id": "1d0a3280",
   "metadata": {},
   "source": [
    "We will add a few more meshes to show the confining bed and boundaries."
   ]
  },
  {
   "cell_type": "code",
   "execution_count": null,
   "id": "b8f21d62",
   "metadata": {},
   "outputs": [],
   "source": [
    "riv_mesh = pv.Box(\n",
    "    bounds=[\n",
    "        gwf.modelgrid.extent[1] - delc,\n",
    "        gwf.modelgrid.extent[1],\n",
    "        gwf.modelgrid.extent[2],\n",
    "        gwf.modelgrid.extent[3],\n",
    "        botm[0] * vert_exag,\n",
    "        hds[(0, 0, ncol - 1)] * vert_exag,\n",
    "    ]\n",
    ")\n",
    "well_points = gwf.modelgrid.verts[gwf.modelgrid.iverts[welcells[0]]]\n",
    "well_xs, well_ys = list(zip(*well_points))\n",
    "wel_mesh = pv.Box(bounds=[\n",
    "    min(well_xs),\n",
    "    max(well_xs),\n",
    "    min(well_ys),\n",
    "    max(well_ys),\n",
    "    botm[-1] * vert_exag,\n",
    "    botm[-2] * vert_exag])\n",
    "bed_mesh = pv.Box(\n",
    "    bounds=[\n",
    "        gwf.modelgrid.extent[0],\n",
    "        gwf.modelgrid.extent[1],\n",
    "        gwf.modelgrid.extent[2],\n",
    "        gwf.modelgrid.extent[3],\n",
    "        botm[1] * vert_exag,\n",
    "        botm[0] * vert_exag,\n",
    "    ]\n",
    ")"
   ]
  },
  {
   "cell_type": "markdown",
   "id": "87e77f68",
   "metadata": {},
   "source": [
    "Create the 3D plot."
   ]
  },
  {
   "cell_type": "code",
   "execution_count": null,
   "id": "21e03084",
   "metadata": {},
   "outputs": [],
   "source": [
    "pv.set_plot_theme(\"document\")\n",
    "pv.set_jupyter_backend('static')\n",
    "axes = pv.Axes(show_actor=False, actor_scale=2.0, line_width=5)\n",
    "p = pv.Plotter(\n",
    "    window_size=[500, 500],\n",
    "    notebook=True,\n",
    ")\n",
    "p.enable_anti_aliasing()\n",
    "p.add_mesh(gwf_mesh, opacity=0.025, style=\"wireframe\")\n",
    "p.add_mesh(\n",
    "    mp7_mesh,\n",
    "    point_size=4,\n",
    "    line_width=3,\n",
    "    render_points_as_spheres=True,\n",
    "    render_lines_as_tubes=True,\n",
    "    smooth_shading=True,\n",
    ")\n",
    "p.add_mesh(riv_mesh, color=\"teal\", opacity=0.2)\n",
    "p.add_mesh(wel_mesh, color=\"red\", opacity=0.3)\n",
    "p.add_mesh(bed_mesh, color=\"tan\", opacity=0.1)\n",
    "p.show()"
   ]
  },
  {
   "cell_type": "markdown",
   "id": "4951a385",
   "metadata": {},
   "source": [
    "#### PRT Model\n",
    "\n",
    "We can now create a PRT model equivalent to the MP7 model. First we define the model name and workspace."
   ]
  },
  {
   "cell_type": "code",
   "execution_count": null,
   "id": "6ca1eeb5",
   "metadata": {},
   "outputs": [],
   "source": [
    "prt_name = f\"{example_name}-prt\"\n",
    "prt_ws = base_ws / \"prt\"\n",
    "prt_ws.mkdir(exist_ok=True, parents=True)"
   ]
  },
  {
   "cell_type": "markdown",
   "id": "f51f2e0d",
   "metadata": {},
   "source": [
    "Create the simulation and time discretization."
   ]
  },
  {
   "cell_type": "code",
   "execution_count": null,
   "id": "cc76d682",
   "metadata": {},
   "outputs": [],
   "source": [
    "sim = flopy.mf6.MFSimulation(\n",
    "    sim_name=prt_name, exe_name=\"mf6\", version=\"mf6\", sim_ws=prt_ws\n",
    ")"
   ]
  },
  {
   "cell_type": "code",
   "execution_count": null,
   "id": "d4e0f06e",
   "metadata": {},
   "outputs": [],
   "source": [
    "tdis = flopy.mf6.ModflowTdis(\n",
    "    sim, pname=\"tdis\", time_units=\"DAYS\", perioddata=tdis_rc, nper=len(tdis_rc)\n",
    ")"
   ]
  },
  {
   "cell_type": "markdown",
   "id": "0955fcde",
   "metadata": {},
   "source": [
    "Create the PRT model and grid discretization."
   ]
  },
  {
   "cell_type": "code",
   "execution_count": null,
   "id": "31861413",
   "metadata": {},
   "outputs": [],
   "source": [
    "# Create PRT model\n",
    "prt = flopy.mf6.ModflowPrt(\n",
    "    sim, modelname=prt_name, model_nam_file=\"{}.nam\".format(prt_name)\n",
    ")"
   ]
  },
  {
   "cell_type": "code",
   "execution_count": null,
   "id": "0ed22748",
   "metadata": {},
   "outputs": [],
   "source": [
    "# Create grid discretization\n",
    "disv = flopy.mf6.ModflowGwfdisv(\n",
    "    prt,\n",
    "    length_units=length_units,\n",
    "    **disv_props,\n",
    ")"
   ]
  },
  {
   "cell_type": "markdown",
   "id": "1bf09d22",
   "metadata": {},
   "source": [
    "Create the PRT model input package, which is used to configure model-scoped settings (e.g. porosity)."
   ]
  },
  {
   "cell_type": "code",
   "execution_count": null,
   "id": "22e7282f",
   "metadata": {},
   "outputs": [],
   "source": [
    "mip = flopy.mf6.ModflowPrtmip(prt, pname=\"mip\", porosity=porosity)"
   ]
  },
  {
   "cell_type": "markdown",
   "id": "fe7c650f",
   "metadata": {},
   "source": [
    "Now we create the particle release configuration for PRT. Unlike MODPATH 7,\n",
    "PRT does not provide \"templates\" to arrange particles on cell faces or within\n",
    "cells &mdash; rather particle release points must be configured explicitly in\n",
    "pre-processing. Evenly spaced distributions of particles can be easily created\n",
    "with `numpy.meshgrid()`.\n",
    "\n",
    "To streamline (:wink:) the migration of MODPATH 7 models to MODFLOW 6 PRT,\n",
    "FloPy provides utilities to convert MP7 particle release configurations to\n",
    "global coordinates (MP7 expects cell-local coordinates) or directly to the\n",
    "format expected by the PRT particle release point (PRP) package. Below we\n",
    "use the `NodeParticleData.to_prp()` method to achieve the latter. Note that\n",
    "this method returns an iterator rather than a materialized list."
   ]
  },
  {
   "cell_type": "code",
   "execution_count": null,
   "id": "2e5d3460",
   "metadata": {},
   "outputs": [],
   "source": [
    "releasepts = list(particle_data.to_prp(grid))\n",
    "prp = flopy.mf6.ModflowPrtprp(\n",
    "    prt,\n",
    "    pname=\"prp\",\n",
    "    filename=f\"{prt_name}.prp\",\n",
    "    nreleasepts=len(releasepts),\n",
    "    packagedata=releasepts,\n",
    "    perioddata={0: [\"FIRST\"]},\n",
    "    exit_solve_tolerance=1e-5,\n",
    ")"
   ]
  },
  {
   "cell_type": "markdown",
   "id": "a072fa23",
   "metadata": {},
   "source": [
    "We can now create the MODFLOW 6 PRT output control package. This package is\n",
    "used to configure PRT output files. PRT can write pathline output to binary\n",
    "or CSV files. PRT can also create a cell budget output file, which contains\n",
    "intercell mass flows."
   ]
  },
  {
   "cell_type": "markdown",
   "id": "bc922bc1",
   "metadata": {},
   "source": [
    "The output control package is also used to configure **tracking events**.\n",
    "This is another point of departure between PRT and MODPATH. MP7 supports\n",
    "four distinct simulation modes:\n",
    "  - endpoint\n",
    "  - pathline\n",
    "  - timeseries\n",
    "  - combined pathline and timeseries\n",
    "\n",
    "The tracking algorithm used by MP7 is functionally identical in all four modes;\n",
    "the mode controls only how output is reported. PRT, on the other hand, has just\n",
    "a single mode, and output is configured by selecting tracking events:\n",
    "  - release\n",
    "  - (sub)cell exit\n",
    "  - timestep end\n",
    "  - termination\n",
    "  - weak sink cell exit\n",
    "  - user-specified time\n",
    "\n",
    "For example, to configure a PRT model equivalently to an MP7 endpoint simulation,\n",
    "one would select release and termination events only. For a timeseries simulation,\n",
    "one would select and provide user-specified times. By default, PRT enables all\n",
    "tracking events. Below we use this default configuration.\n"
   ]
  },
  {
   "cell_type": "code",
   "execution_count": null,
   "id": "20bd9b3c",
   "metadata": {},
   "outputs": [],
   "source": [
    "# Create the output control package\n",
    "budgetfile_prt_name = \"{}.bud\".format(prt_name)\n",
    "trackfile_name = \"{}.trk\".format(prt_name)\n",
    "trackcsvfile_name = \"{}.trk.csv\".format(prt_name)\n",
    "budget_record = [budgetfile_prt_name]\n",
    "track_record = [trackfile_name]\n",
    "trackcsv_record = [trackcsvfile_name]\n",
    "flopy.mf6.ModflowPrtoc(\n",
    "    prt,\n",
    "    pname=\"oc\",\n",
    "    budget_filerecord=budget_record,\n",
    "    track_filerecord=track_record,\n",
    "    trackcsv_filerecord=trackcsv_record,\n",
    "    saverecord=[(\"BUDGET\", \"ALL\")],\n",
    ")"
   ]
  },
  {
   "cell_type": "markdown",
   "id": "6410acc8",
   "metadata": {},
   "source": [
    "Next we configure PRT to consume the output of the GWF model we ran\n",
    "earlier via the flow model interface (FMI) package. Since we want to\n",
    "track particles backwards from a known capture point, we first reverse\n",
    "the GWF model's head/budget files. FloPy `HeadFile` and `CellBudgetFile`\n",
    "classes provide utilities to do this."
   ]
  },
  {
   "cell_type": "code",
   "execution_count": null,
   "id": "e793298a",
   "metadata": {},
   "outputs": [],
   "source": [
    "head_file = flopy.utils.HeadFile(gwf_ws / headfile_name, tdis=sim.tdis)\n",
    "budget_file = flopy.utils.CellBudgetFile(gwf_ws / budgetfile_name, precision=\"double\", tdis=sim.tdis)"
   ]
  },
  {
   "cell_type": "code",
   "execution_count": null,
   "id": "ce44bf69",
   "metadata": {},
   "outputs": [],
   "source": [
    "headfile_bkwd_name = f\"{headfile_name}_bkwd\"\n",
    "budgetfile_bkwd_name = f\"{budgetfile_name}_bkwd\""
   ]
  },
  {
   "cell_type": "code",
   "execution_count": null,
   "id": "30614239",
   "metadata": {},
   "outputs": [],
   "source": [
    "head_file.reverse(prt_ws / headfile_bkwd_name)\n",
    "budget_file.reverse(prt_ws / budgetfile_bkwd_name)"
   ]
  },
  {
   "cell_type": "code",
   "execution_count": null,
   "id": "27d88be5",
   "metadata": {},
   "outputs": [],
   "source": [
    "fmi = flopy.mf6.ModflowPrtfmi(prt, packagedata=[\n",
    "    (\"GWFHEAD\", headfile_bkwd_name),\n",
    "    (\"GWFBUDGET\", budgetfile_bkwd_name),\n",
    "])"
   ]
  },
  {
   "cell_type": "markdown",
   "id": "22742206",
   "metadata": {},
   "source": [
    "Finally we create an explicit model solution for PRT. The PRT model is\n",
    "unlike other MODFLOW 6 model types in that it includes its own solution\n",
    "procedures for particle tracking. PRT does not use the iterative matrix\n",
    "matrix solvers used by other model types."
   ]
  },
  {
   "cell_type": "code",
   "execution_count": null,
   "id": "0d7f8408",
   "metadata": {},
   "outputs": [],
   "source": [
    "ems = flopy.mf6.ModflowEms(\n",
    "    sim,\n",
    "    pname=\"ems\",\n",
    "    filename=\"{}.ems\".format(prt_name),\n",
    ")\n",
    "sim.register_solution_package(ems, [prt.name])"
   ]
  },
  {
   "cell_type": "markdown",
   "id": "9725657f",
   "metadata": {},
   "source": [
    "We are now ready to write and run the PRT model."
   ]
  },
  {
   "cell_type": "code",
   "execution_count": null,
   "id": "ee1a82a4",
   "metadata": {},
   "outputs": [],
   "source": [
    "sim.write_simulation(silent=False)\n",
    "sim.run_simulation(silent=True)"
   ]
  },
  {
   "cell_type": "markdown",
   "id": "eb610b35",
   "metadata": {},
   "source": [
    "We can now load PRT pathlines from the CSV output file."
   ]
  },
  {
   "cell_type": "code",
   "execution_count": null,
   "id": "f4812d6b",
   "metadata": {},
   "outputs": [],
   "source": [
    "prt_pathlines = pd.read_csv(prt_ws / trackcsvfile_name)"
   ]
  },
  {
   "cell_type": "markdown",
   "id": "a45deea1",
   "metadata": {},
   "source": [
    "Create a 3D pathline plot comparing MP7 and PRT pathlines. They should be equivalent to several decimal places, so we expect to see just one set of pathlines despite plotting both."
   ]
  },
  {
   "cell_type": "code",
   "execution_count": null,
   "id": "06454ecd",
   "metadata": {},
   "outputs": [],
   "source": [
    "vert_exag = 10\n",
    "vtk = Vtk(model=gwf, binary=False, vertical_exageration=vert_exag, smooth=False)\n",
    "vtk.add_model(gwf)\n",
    "vtk.add_pathline_points(prt_pathlines.to_records(index=False))\n",
    "gwf_mesh, prt_mesh = vtk.to_pyvista()"
   ]
  },
  {
   "cell_type": "code",
   "execution_count": null,
   "id": "3993243b",
   "metadata": {},
   "outputs": [],
   "source": [
    "axes = pv.Axes(show_actor=False, actor_scale=2.0, line_width=5)\n",
    "p = pv.Plotter(\n",
    "    window_size=[500, 500],\n",
    "    notebook=True,\n",
    ")\n",
    "p.enable_anti_aliasing()\n",
    "p.add_mesh(gwf_mesh, opacity=0.025, style=\"wireframe\")\n",
    "p.add_mesh(\n",
    "    mp7_mesh,\n",
    "    point_size=4,\n",
    "    line_width=3,\n",
    "    render_points_as_spheres=True,\n",
    "    render_lines_as_tubes=True,\n",
    "    smooth_shading=True,\n",
    "    color=\"red\"\n",
    ")\n",
    "p.add_mesh(\n",
    "    prt_mesh,\n",
    "    point_size=4,\n",
    "    line_width=3,\n",
    "    render_points_as_spheres=True,\n",
    "    render_lines_as_tubes=True,\n",
    "    smooth_shading=True,\n",
    "    color=\"blue\"\n",
    ")\n",
    "p.add_mesh(riv_mesh, color=\"teal\", opacity=0.2)\n",
    "p.add_mesh(wel_mesh, color=\"red\", opacity=0.3)\n",
    "p.add_mesh(bed_mesh, color=\"tan\", opacity=0.1)\n",
    "p.show()"
   ]
  },
  {
   "cell_type": "markdown",
   "id": "adbc35a7",
   "metadata": {},
   "source": [
    "*Oh no!* Why are they different and how can we remedy it?"
   ]
  },
  {
   "cell_type": "markdown",
   "id": "04ca4e20",
   "metadata": {},
   "source": [
    "### Voronoi example\n",
    "\n",
    "Now that we've demonstrated parity between MODPATH 7 and MODFLOW 6 PRT, we will\n",
    "create an example model showcasing PRT's ability to solve unstructured vertex\n",
    "grids with non-rectangular cells. This is a synthetic flow system modeled after\n",
    "a public park with a stream and a well in a hilly landscape. The model uses a\n",
    "Voronoi grid with several refined regions. The flow system is steady-state.\n",
    "Particles are released in a square region in the southwest corner of the grid."
   ]
  },
  {
   "cell_type": "markdown",
   "id": "a934007d",
   "metadata": {},
   "source": [
    "Define model units."
   ]
  },
  {
   "cell_type": "code",
   "execution_count": null,
   "id": "371d2bf0",
   "metadata": {},
   "outputs": [],
   "source": [
    "length_units = \"feet\"\n",
    "time_units = \"years\""
   ]
  },
  {
   "cell_type": "markdown",
   "id": "88e25bf9",
   "metadata": {},
   "source": [
    "Define model parameters."
   ]
  },
  {
   "cell_type": "code",
   "execution_count": null,
   "id": "620dd81d",
   "metadata": {},
   "outputs": [],
   "source": [
    "nper = 1  # Number of periods\n",
    "nlay = 3  # Number of layers\n",
    "delr = 25.0  # Column width ($ft$)\n",
    "delc = 25.0  # Row width ($ft$)\n",
    "top = 990  # Model top elevation ($ft$)\n",
    "botm = [950.0, 940.0, 800.0]  # Layer bottom elevations ($ft$)\n",
    "kh = [50.0, 10.0, 100.0]  # Horizontal hydraulic conductivity ($ft/d$)\n",
    "kv = [10.0, 5.0, 20.0]  # Vertical hydraulic conductivity ($ft/d$)\n",
    "rchv = 0.005  # Recharge rate ($ft/d$)\n",
    "str_h = 980.0  # Stream stage ($ft$)\n",
    "str_z = 960.0  # Stream bottom ($ft$)\n",
    "str_c = 1.0e5  # Stream conductance ($ft^2/d$)\n",
    "riv_h = 980.0  # River stage ($ft$)\n",
    "riv_z = 960.0  # River bottom ($ft$)\n",
    "riv_c = 1.0e5  # River conductance ($ft^2/d$)\n",
    "porosity = 0.1  # Soil porosity (unitless)"
   ]
  },
  {
   "cell_type": "markdown",
   "id": "3c102d1b",
   "metadata": {},
   "source": [
    "#### Grid creation and refinement\n",
    "\n",
    "We will now create a Voronoi grid with several refinement features."
   ]
  },
  {
   "cell_type": "markdown",
   "id": "df90e4e9",
   "metadata": {},
   "source": [
    "Define the model domain. The model domain is rectangular, but grid cells will generally not be rectangular (or only incidentally if they are)."
   ]
  },
  {
   "cell_type": "code",
   "execution_count": null,
   "id": "f58fba80",
   "metadata": {},
   "outputs": [],
   "source": [
    "domain = [(0, 0), (925, 0), (925, 700), (0, 700)]"
   ]
  },
  {
   "cell_type": "markdown",
   "id": "f53b7c14",
   "metadata": {},
   "source": [
    "Define refinement features: hills in the northwest and southwest and a stream running diagonally along the east side of the grid."
   ]
  },
  {
   "cell_type": "code",
   "execution_count": null,
   "id": "c475cd36",
   "metadata": {},
   "outputs": [],
   "source": [
    "nw_hill_contours = [\n",
    "    [(70, 690), (30, 530), (210, 530), (270, 490)],\n",
    "]\n",
    "sw_hill_contours = [\n",
    "    [(10, 110), (70, 110), (70, 10)],\n",
    "    [(10, 150), (90, 190), (130, 190), (190, 170), (170, 110), (150, 10)],\n",
    "    [(10, 190), (110, 230), (170, 230), (210, 210), (230, 110), (210, 10)],\n",
    "    [(10, 230), (50, 250), (110, 270), (230, 230), (270, 190), (270, 130), (250, 10)],\n",
    "    [(10, 270), (110, 290), (250, 270), (290, 250), (310, 30)],\n",
    "]\n",
    "river_line = [list(zip(range(590, 891, 10), range(10, 651, 19)))]\n",
    "features = sw_hill_contours + nw_hill_contours + river_line"
   ]
  },
  {
   "cell_type": "markdown",
   "id": "9c9a4836",
   "metadata": {},
   "source": [
    "Create a `Triangle` workspace and object, then register the refinement features."
   ]
  },
  {
   "cell_type": "code",
   "execution_count": null,
   "id": "e65777c5",
   "metadata": {},
   "outputs": [],
   "source": [
    "# Create triangle workspace and object\n",
    "triangle_ws = base_ws / \"triangle\"\n",
    "triangle_ws.mkdir(parents=True, exist_ok=True)\n",
    "tri = Triangle(angle=30, model_ws=triangle_ws)\n",
    "tri.add_polygon(domain)  # active domain must be created first\n",
    "for poly in features:\n",
    "    tri.add_polygon(poly)"
   ]
  },
  {
   "cell_type": "markdown",
   "id": "2440fb0b",
   "metadata": {},
   "source": [
    "Build and plot the triangle grid with refinement features."
   ]
  },
  {
   "cell_type": "code",
   "execution_count": null,
   "id": "e45ff4ff",
   "metadata": {},
   "outputs": [],
   "source": [
    "tri.build(verbose=False)\n",
    "tri.plot(alpha=0.2)\n",
    "ax = plt.gca()\n",
    "for feature in features:\n",
    "    xs, ys = list(zip(*feature))\n",
    "    ax.plot(xs, ys)\n",
    "plt.show()"
   ]
  },
  {
   "cell_type": "markdown",
   "id": "df32781a",
   "metadata": {},
   "source": [
    "Convert the triangular grid to a Voronoi DISV grid and plot it again."
   ]
  },
  {
   "cell_type": "code",
   "execution_count": null,
   "id": "8835c385",
   "metadata": {},
   "outputs": [],
   "source": [
    "vor = VoronoiGrid(tri)\n",
    "gridprops = vor.get_gridprops_vertexgrid()\n",
    "disvprops = vor.get_disv_gridprops()\n",
    "voronoi_grid = VertexGrid(**gridprops, nlay=1)\n",
    "voronoi_grid.plot(alpha=0.5)\n",
    "ax = plt.gca()\n",
    "for feature in features:\n",
    "    xs, ys = list(zip(*feature))\n",
    "    ax.plot(xs, ys)\n",
    "plt.show()"
   ]
  },
  {
   "cell_type": "markdown",
   "id": "bc32a564",
   "metadata": {},
   "source": [
    "#### GWF model\n",
    "\n",
    "We can now construct a flow model.\n",
    "\n",
    "Begin by preparing the model's top elevation. This is a hilly landscape. Define a few more contours in the southeast corner of the model in order to intersect them with the grid and set the top elevation in the appropriate cells."
   ]
  },
  {
   "cell_type": "code",
   "execution_count": null,
   "id": "ced4d0f5",
   "metadata": {},
   "outputs": [],
   "source": [
    "# Create southeast hill contours\n",
    "se_hill_contours = [\n",
    "    [\n",
    "        (650, 10),\n",
    "        (890, 510),\n",
    "    ],\n",
    "    [\n",
    "        (710, 10),\n",
    "        (890, 450),\n",
    "    ],\n",
    "    [\n",
    "        (790, 10),\n",
    "        (890, 390),\n",
    "    ],\n",
    "]\n",
    "\n",
    "# Create grid intersection helper\n",
    "gi = GridIntersect(voronoi_grid, method=\"vertex\")\n",
    "\n",
    "# Initialize array of top elevations\n",
    "topa = np.ones((voronoi_grid.ncpl,)) * top\n",
    "\n",
    "# Set top elevations on southwest hill, starting from the lowest/broadest contour and proceeding inward.\n",
    "# We will reuse these cell IDs below to set initial heads.\n",
    "sw_hc3_cells = gi.intersect(Polygon(sw_hill_contours[3] + [(0, 0)])).cellids.astype(int)\n",
    "sw_hc2_cells = gi.intersect(Polygon(sw_hill_contours[2] + [(0, 0)])).cellids.astype(int)\n",
    "sw_hc1_cells = gi.intersect(Polygon(sw_hill_contours[1] + [(0, 0)])).cellids.astype(int)\n",
    "sw_hc0_cells = gi.intersect(Polygon(sw_hill_contours[0] + [(0, 0)])).cellids.astype(int)\n",
    "topa[sw_hc3_cells] = 1010\n",
    "topa[sw_hc2_cells] = 1030\n",
    "topa[sw_hc1_cells] = 1050\n",
    "topa[sw_hc0_cells] = 1070\n",
    "\n",
    "# Set top elevations on northwest hill\n",
    "topa[gi.intersect(LineString(nw_hill_contours[0])).cellids.astype(int)] = 1010\n",
    "\n",
    "# Set top elevations on southeast hill\n",
    "topa[gi.intersect(LineString(se_hill_contours[0])).cellids.astype(int)] = 1000\n",
    "topa[gi.intersect(LineString(se_hill_contours[1])).cellids.astype(int)] = 1010\n",
    "topa[gi.intersect(LineString(se_hill_contours[2])).cellids.astype(int)] = 1020"
   ]
  },
  {
   "cell_type": "markdown",
   "id": "2467d1f3",
   "metadata": {},
   "source": [
    "Next we can define the model's boundary conditions. As mentioned above, these include a well in the northwest quadrant and a stream in the eastern region."
   ]
  },
  {
   "cell_type": "code",
   "execution_count": null,
   "id": "3fee05fc",
   "metadata": {},
   "outputs": [],
   "source": [
    "# Define the well cell ID and pumping rate as expected by the WEL package.\n",
    "wells = [\n",
    "    # layer, node, discharge\n",
    "    (0, 237, -705000),\n",
    "]\n",
    "\n",
    "# Define the stream cell IDs and other information as expected by the RIV package.\n",
    "riv_iface = 6\n",
    "riv_iflowface = -1\n",
    "riv_cells = [(0, 120)] + [(0, j) for j in range(35, 66)] + [(0, 124)]\n",
    "river = [[(k, j), riv_h, riv_c, riv_z, riv_iface, riv_iflowface] for k, j in riv_cells]\n",
    "\n",
    "# Determine node numbers for the well and stream cells.\n",
    "nodes = {\"well\": [], \"stream\": []}\n",
    "for k, j, _ in wells:\n",
    "    nn = k * voronoi_grid.ncpl + j\n",
    "    nodes[\"well\"].append(nn)\n",
    "for rivspec in river:\n",
    "    k, j = rivspec[0]\n",
    "    nn = k * voronoi_grid.ncpl + j\n",
    "    nodes[\"stream\"].append(nn)"
   ]
  },
  {
   "cell_type": "markdown",
   "id": "dfcc787e",
   "metadata": {},
   "source": [
    "Next, define zones which will allow us to determine where particles are captured (well or stream). Zone number 1 is the default. Assign the well zone number 2 and the stream zone number 3."
   ]
  },
  {
   "cell_type": "code",
   "execution_count": null,
   "id": "a95a8538",
   "metadata": {},
   "outputs": [],
   "source": [
    "izone = []\n",
    "\n",
    "# layer 1\n",
    "l1 = np.ones((voronoi_grid.ncpl,), dtype=np.int32)\n",
    "l1[[nodes[\"well\"]]] = 2  # well\n",
    "l1[[nodes[\"stream\"]]] = 3  # stream\n",
    "izone.append(l1)\n",
    "\n",
    "# layers 2-3\n",
    "izone.append(1)\n",
    "izone.append(1)"
   ]
  },
  {
   "cell_type": "markdown",
   "id": "54cc3493",
   "metadata": {},
   "source": [
    "We are almost ready to build the simulation. First define the simulation name and workspace."
   ]
  },
  {
   "cell_type": "code",
   "execution_count": null,
   "id": "f9a5b7b0",
   "metadata": {},
   "outputs": [],
   "source": [
    "sim_name = f\"{example_name}-vor\"\n",
    "sim_ws = base_ws / \"vor\"\n",
    "sim_ws.mkdir(exist_ok=True, parents=True)"
   ]
  },
  {
   "cell_type": "markdown",
   "id": "49f81b8e",
   "metadata": {},
   "source": [
    "Next, define particle release points. As mentioned above, we can use `np.meshgrid` to create an evenly spaced distribution of particles over a square 25ft to a side. We then intersect these points with the model grid to determine cell IDs and construct a list of package data as expected by the particle release point (PRP) package. Note that PRT's PRP package requires both global coordinates and cell IDs, and for these to correspond. PRT conducts a fuzzy check to make sure that particle release points are in the specified cell."
   ]
  },
  {
   "cell_type": "code",
   "execution_count": null,
   "id": "b0a1a85a",
   "metadata": {},
   "outputs": [],
   "source": [
    "release_points = np.transpose(\n",
    "    np.array(np.meshgrid(range(25, 50), range(25, 50))).reshape(2, -1)\n",
    ")\n",
    "prp_data = [\n",
    "    [i, (0, gi.intersect(Point(p))[0].cellids), p[0], p[1], 1020.0] for i, p in enumerate(release_points)\n",
    "]"
   ]
  },
  {
   "cell_type": "markdown",
   "id": "df10c353",
   "metadata": {},
   "source": [
    "Now we can build the simulation. In the previous MP7 example, PRT ran as a post-processor. In this example, GWF and PRT will run in the same simulation."
   ]
  },
  {
   "cell_type": "code",
   "execution_count": null,
   "id": "fd3402e5",
   "metadata": {},
   "outputs": [],
   "source": [
    "sim = flopy.mf6.MFSimulation(\n",
    "    sim_name=sim_name, exe_name=\"mf6\", version=\"mf6\", sim_ws=sim_ws\n",
    ")\n",
    "tdis = flopy.mf6.modflow.mftdis.ModflowTdis(\n",
    "    sim,\n",
    "    pname=\"tdis\",\n",
    "    time_units=time_units,\n",
    "    nper=len(tdis_rc),  # this example uses the same time discretization as the previous example\n",
    "    perioddata=tdis_rc,\n",
    ")\n",
    "gwf = flopy.mf6.ModflowGwf(\n",
    "    sim, modelname=gwf_name, save_flows=True\n",
    ")\n",
    "ims = flopy.mf6.modflow.mfims.ModflowIms(\n",
    "    sim,\n",
    "    pname=\"ims\",\n",
    "    complexity=\"SIMPLE\",\n",
    ")\n",
    "sim.register_solution_package(ims, [gwf.name])\n",
    "dis = flopy.mf6.modflow.mfgwfdisv.ModflowGwfdisv(\n",
    "    gwf, nlay=3, top=topa, botm=botm, **disvprops\n",
    ")\n",
    "strt = np.ones((voronoi_grid.ncpl,)) * 995\n",
    "strt[sw_hc3_cells] = topa[sw_hc3_cells] + (\n",
    "    topa[sw_hc3_cells] - strt[sw_hc3_cells] / 2\n",
    ")\n",
    "strt[sw_hc2_cells] = topa[sw_hc2_cells] + (\n",
    "    topa[sw_hc2_cells] - strt[sw_hc2_cells] / 2\n",
    ")\n",
    "strt[sw_hc1_cells] = topa[sw_hc1_cells] + (\n",
    "    topa[sw_hc1_cells] - strt[sw_hc1_cells] / 2\n",
    ")\n",
    "strt[sw_hc0_cells] = topa[sw_hc0_cells] + (\n",
    "    topa[sw_hc0_cells] - strt[sw_hc0_cells] / 2\n",
    ")\n",
    "strt = np.stack([strt, strt, strt])\n",
    "ic = flopy.mf6.modflow.mfgwfic.ModflowGwfic(gwf, pname=\"ic\", strt=strt)\n",
    "npf = flopy.mf6.modflow.mfgwfnpf.ModflowGwfnpf(\n",
    "    gwf,\n",
    "    pname=\"npf\",\n",
    "    k=kh,\n",
    "    k33=kv,\n",
    "    save_flows=True,\n",
    "    save_specific_discharge=True,\n",
    "    save_saturation=True,\n",
    ")\n",
    "cells_left = gi.intersect(LineString([(0, 0), (0, 700)]))[\"cellids\"]\n",
    "cells_right = gi.intersect(LineString([(924, 0), (924, 700)]))[\"cellids\"]\n",
    "chdlist = []\n",
    "for i, ic in enumerate(cells_left):\n",
    "    chdlist.append([(0, ic), 1010.0 + i])\n",
    "for i, ic in enumerate(cells_right):\n",
    "    chdlist.append([(0, ic), 980.0 + i])\n",
    "chd = flopy.mf6.ModflowGwfchd(gwf, stress_period_data=chdlist)\n",
    "rch = flopy.mf6.modflow.mfgwfrcha.ModflowGwfrcha(gwf, recharge=rchv)\n",
    "sto = flopy.mf6.modflow.mfgwfsto.ModflowGwfsto(\n",
    "    gwf,\n",
    "    save_flows=True,\n",
    "    iconvert=1,\n",
    "    ss=0.0001,\n",
    "    sy=0.1,\n",
    "    steady_state={0: True},\n",
    ")\n",
    "wel = flopy.mf6.modflow.mfgwfwel.ModflowGwfwel(\n",
    "    gwf,\n",
    "    maxbound=1,\n",
    "    stress_period_data={0: wells},\n",
    ")\n",
    "riv = flopy.mf6.modflow.mfgwfriv.ModflowGwfriv(\n",
    "    gwf, auxiliary=[\"iface\", \"iflowface\"], stress_period_data={0: river}\n",
    ")\n",
    "oc = flopy.mf6.modflow.mfgwfoc.ModflowGwfoc(\n",
    "    gwf,\n",
    "    pname=\"oc\",\n",
    "    saverecord=[(\"HEAD\", \"ALL\"), (\"BUDGET\", \"ALL\")],\n",
    "    head_filerecord=[headfile_name],\n",
    "    budget_filerecord=[budgetfile_name],\n",
    ")\n",
    "prt = flopy.mf6.ModflowPrt(\n",
    "    sim, modelname=prt_name, model_nam_file=\"{}.nam\".format(prt_name)\n",
    ")\n",
    "dis = flopy.mf6.modflow.mfgwfdisv.ModflowGwfdisv(\n",
    "    prt, nlay=3, top=topa, botm=botm, **disvprops\n",
    ")\n",
    "mip = flopy.mf6.ModflowPrtmip(prt, pname=\"mip\", porosity=porosity, izone=izone)\n",
    "prp = flopy.mf6.ModflowPrtprp(\n",
    "    prt,\n",
    "    pname=\"prp1\",\n",
    "    filename=\"{}_1.prp\".format(prt_name),\n",
    "    nreleasepts=len(prp_data),\n",
    "    packagedata=prp_data,\n",
    "    exit_solve_tolerance=1e-5,\n",
    ")\n",
    "tracktimes = list(range(0, 200, 2))\n",
    "oc = flopy.mf6.ModflowPrtoc(\n",
    "    prt,\n",
    "    pname=\"oc\",\n",
    "    budget_filerecord=[budgetfile_prt_name],\n",
    "    trackcsv_filerecord=[trackcsvfile_name],\n",
    "    track_timesrecord=tracktimes,\n",
    "    saverecord=[(\"BUDGET\", \"ALL\")],\n",
    ")\n",
    "exg = flopy.mf6.ModflowGwfprt(\n",
    "    sim,\n",
    "    exgtype=\"GWF6-PRT6\",\n",
    "    exgmnamea=gwf_name,\n",
    "    exgmnameb=prt_name,\n",
    "    filename=f\"{gwf_name}.gwfprt\",\n",
    ")\n",
    "ems = flopy.mf6.ModflowEms(\n",
    "    sim,\n",
    "    pname=\"ems\",\n",
    "    filename=f\"{prt_name}.ems\",\n",
    ")\n",
    "sim.register_solution_package(ems, [prt.name])"
   ]
  },
  {
   "cell_type": "markdown",
   "id": "8a565a67",
   "metadata": {},
   "source": [
    "We can now write and run the model."
   ]
  },
  {
   "cell_type": "code",
   "execution_count": null,
   "id": "bba2fc24",
   "metadata": {},
   "outputs": [],
   "source": [
    "sim.write_simulation(silent=False)\n",
    "sim.run_simulation(silent=True)"
   ]
  },
  {
   "cell_type": "markdown",
   "id": "3f639bf9",
   "metadata": {},
   "source": [
    "Load the GWF model's head and budget output using the `.output.head()` and `.output.budget()` shortcuts for the `HeadFile` and `CellBudgetFile` classes, respectively, then get specific discharge from the cell-by-cell budget."
   ]
  },
  {
   "cell_type": "code",
   "execution_count": null,
   "id": "833a709c",
   "metadata": {},
   "outputs": [],
   "source": [
    "hds = gwf.output.head().get_data()\n",
    "spdis = gwf.output.budget().get_data(text=\"DATA-SPDIS\")[0]\n",
    "qx, qy, _ = flopy.utils.postprocessing.get_specific_discharge(spdis, gwf)"
   ]
  },
  {
   "cell_type": "markdown",
   "id": "87055f42",
   "metadata": {},
   "source": [
    "Load pathlines from the CSV output file, with a bit of post-processing to make it easier to colorcode pathlines by capture zone below."
   ]
  },
  {
   "cell_type": "code",
   "execution_count": null,
   "id": "d1a56986",
   "metadata": {},
   "outputs": [],
   "source": [
    "prt_pathlines = pd.read_csv(sim_ws / trackcsvfile_name)\n",
    "\n",
    "# index temporarily by composite key fields\n",
    "prt_pathlines.set_index([\"irpt\", \"trelease\"], drop=False, inplace=True)\n",
    "\n",
    "# determine which particles ended up in which capture zone\n",
    "prt_pathlines[\"destzone\"] = prt_pathlines[prt_pathlines.istatus > 1].izone\n",
    "prt_pathlines[\"dest\"] = prt_pathlines.apply(\n",
    "    lambda row: (\n",
    "        \"well\" if row.destzone == 2 else \"stream\" if row.destzone == 3 else pd.NA\n",
    "    ),\n",
    "    axis=1,\n",
    ")\n",
    "\n",
    "# reset index\n",
    "prt_pathlines.reset_index(drop=True, inplace=True)"
   ]
  },
  {
   "cell_type": "markdown",
   "id": "ed4771df",
   "metadata": {},
   "source": [
    "Filter (sub)cell exit events out of the pathline data, leaving us with a timeseries (plus release and termination points)."
   ]
  },
  {
   "cell_type": "code",
   "execution_count": null,
   "id": "ab4cdd05",
   "metadata": {},
   "outputs": [],
   "source": [
    "prt_pathlines = prt_pathlines[prt_pathlines.ireason != 1]"
   ]
  },
  {
   "cell_type": "markdown",
   "id": "c1a14925",
   "metadata": {},
   "source": [
    "Plot heads and pathlines in plan view, coloring path points by travel time."
   ]
  },
  {
   "cell_type": "code",
   "execution_count": null,
   "id": "880f98d5",
   "metadata": {},
   "outputs": [],
   "source": [
    "fig, ax = plt.subplots(figsize=(7, 7))\n",
    "fig.tight_layout()\n",
    "ax.set_aspect(\"equal\")\n",
    "ilay = 2  # plot heads for the bottom layer\n",
    "mm = flopy.plot.PlotMapView(gwf, ax=ax, layer=ilay)\n",
    "mm.plot_grid(lw=0.5)\n",
    "mm.plot_bc(\"WEL\", plotAll=True, color=\"red\", alpha=0.75)\n",
    "mm.plot_bc(\"RIV\", plotAll=True, color=\"blue\", alpha=0.5)\n",
    "\n",
    "# plot head array and contours\n",
    "pc = mm.plot_array(hds, edgecolor=\"black\", alpha=0.25, cmap=\"viridis\")\n",
    "cb = plt.colorbar(pc, shrink=0.25)\n",
    "cb.ax.set_xlabel(\"Head, layer 3\\n\" + r\"($feet$)\")\n",
    "cint = 1\n",
    "hmin = hds[ilay].min()\n",
    "hmax = hds[ilay].max()\n",
    "levels = np.arange(np.floor(hmin), np.ceil(hmax) + cint, cint)\n",
    "cs = mm.contour_array(hds, colors=\"black\", levels=levels, alpha=0.5)\n",
    "plt.clabel(cs, fmt=\"%.1f\", colors=\"black\", fontsize=11)\n",
    "\n",
    "# plot specific discharge\n",
    "mm.plot_vector(qx, qy, normalize=True, alpha=0.15)\n",
    "\n",
    "from matplotlib.legend_handler import HandlerPatch\n",
    "from matplotlib.patches import FancyArrow\n",
    "\n",
    "def make_legend_arrow(\n",
    "    legend, orig_handle, xdescent, ydescent, width, height, fontsize\n",
    "):\n",
    "    return FancyArrow(\n",
    "        0,\n",
    "        0.5 * height,\n",
    "        width,\n",
    "        0,\n",
    "        length_includes_head=True,\n",
    "        head_width=0.75 * height,\n",
    "    )\n",
    "\n",
    "# create legend\n",
    "arrow = plt.arrow(0, 0, 0.5, 0.6, label=\"Flow\")\n",
    "ax.legend(\n",
    "    handles=[\n",
    "        arrow,\n",
    "        mpl.patches.Patch(color=\"red\", label=\"Well\", alpha=0.5),\n",
    "        mpl.patches.Patch(color=\"blue\", label=\"Stream\", alpha=0.5),\n",
    "    ],\n",
    "    loc=\"upper right\",\n",
    "    handler_map={FancyArrow: HandlerPatch(patch_func=make_legend_arrow)},\n",
    ")\n",
    "\n",
    "pts = ax.scatter(prt_pathlines[\"x\"], prt_pathlines[\"y\"], s=2, c=prt_pathlines[\"t\"], cmap=cm[\"pink\"])\n",
    "cb2 = plt.colorbar(pts, shrink=0.25)\n",
    "cb2.ax.set_xlabel(\"Travel time\\n\" + r\"($years$)\")\n",
    "\n",
    "plt.show()"
   ]
  },
  {
   "cell_type": "markdown",
   "id": "30282053",
   "metadata": {},
   "source": [
    "Finally we can plot pathlines in 3D, colored by capture zone (well red, stream blue)."
   ]
  },
  {
   "cell_type": "code",
   "execution_count": null,
   "id": "206ea1f1",
   "metadata": {},
   "outputs": [],
   "source": [
    "axes = pv.Axes(show_actor=False, actor_scale=2.0, line_width=5)\n",
    "vtk = Vtk(model=gwf, binary=False, vertical_exageration=1, smooth=False)\n",
    "vtk.add_model(gwf)\n",
    "vtk.add_pathline_points(prt_pathlines)\n",
    "gwf_mesh, prt_mesh = vtk.to_pyvista()\n",
    "\n",
    "# rotate camera\n",
    "gwf_mesh.rotate_z(110, point=axes.origin, inplace=True)\n",
    "gwf_mesh.rotate_y(-10, point=axes.origin, inplace=True)\n",
    "gwf_mesh.rotate_x(10, point=axes.origin, inplace=True)\n",
    "prt_mesh.rotate_z(110, point=axes.origin, inplace=True)\n",
    "prt_mesh.rotate_y(-10, point=axes.origin, inplace=True)\n",
    "prt_mesh.rotate_x(10, point=axes.origin, inplace=True)\n",
    "\n",
    "# extract grid features: top layer, well, stream\n",
    "well_mesh = gwf_mesh.remove_cells(\n",
    "    list(set(range(voronoi_grid.nnodes * 3)) - set(nodes[\"well\"])), inplace=False\n",
    ")\n",
    "river_mesh = gwf_mesh.remove_cells(\n",
    "    list(set(range(voronoi_grid.nnodes * 3)) - set(nodes[\"stream\"])), inplace=False\n",
    ")\n",
    "\n",
    "# create plot\n",
    "p = pv.Plotter(\n",
    "    window_size=[700, 700],\n",
    "    notebook=True,\n",
    ")\n",
    "p.enable_anti_aliasing()\n",
    "p.add_mesh(\n",
    "    gwf_mesh,\n",
    "    opacity=0.1,\n",
    "    style=\"wireframe\",\n",
    ")\n",
    "p.add_mesh(well_mesh, color=\"red\", opacity=0.4, show_edges=False)\n",
    "p.add_mesh(river_mesh, color=\"blue\", opacity=0.15, show_edges=False)\n",
    "p.add_mesh(\n",
    "    prt_mesh,\n",
    "    opacity=0.04,\n",
    "    scalars=\"destzone\",\n",
    "    cmap=[\"red\", \"blue\"],\n",
    "    point_size=4,\n",
    "    line_width=3,\n",
    "    render_points_as_spheres=True,\n",
    "    render_lines_as_tubes=True,\n",
    "    smooth_shading=True,\n",
    ")\n",
    "p.remove_scalar_bar(\"destzone\")\n",
    "p.camera.zoom(1.4)\n",
    "p.show()\n"
   ]
  }
 ],
 "metadata": {
  "jupytext": {
   "cell_metadata_filter": "-all",
   "main_language": "python",
   "notebook_metadata_filter": "-all"
  },
  "kernelspec": {
   "display_name": "mfandmore2024",
   "language": "python",
   "name": "python3"
  },
  "language_info": {
   "codemirror_mode": {
    "name": "ipython",
    "version": 3
   },
   "file_extension": ".py",
   "mimetype": "text/x-python",
   "name": "python",
   "nbconvert_exporter": "python",
   "pygments_lexer": "ipython3",
   "version": "3.12.0"
  }
 },
 "nbformat": 4,
 "nbformat_minor": 5
}
