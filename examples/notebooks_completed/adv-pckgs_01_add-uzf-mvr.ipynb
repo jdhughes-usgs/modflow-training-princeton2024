{
 "cells": [
  {
   "cell_type": "markdown",
   "id": "09cd4c0d-ed77-4b8d-9d65-fccdf103d008",
   "metadata": {},
   "source": [
    "## Create a model with Advanced Packages - Part 2\n",
    "\n",
    "Load model from Part 1 and amend with UZF & MVR, rerun and look at the MVR budget"
   ]
  },
  {
   "cell_type": "code",
   "execution_count": 1,
   "id": "ccf2fce9-eced-4882-a807-6b4719522412",
   "metadata": {},
   "outputs": [],
   "source": [
    "import flopy\n",
    "import numpy as np\n",
    "from pathlib import Path\n",
    "import matplotlib.pyplot as plt"
   ]
  },
  {
   "cell_type": "markdown",
   "id": "3ee4cbe9-8b6e-4eb8-a807-ade0eae794a4",
   "metadata": {},
   "source": [
    "### Load the model we just built"
   ]
  },
  {
   "cell_type": "code",
   "execution_count": 2,
   "id": "50d232a7-3398-45e0-ad59-3ee225a120cd",
   "metadata": {},
   "outputs": [
    {
     "name": "stdout",
     "output_type": "stream",
     "text": [
      "loading simulation...\n",
      "  loading simulation name file...\n",
      "  loading tdis package...\n",
      "  loading model gwf6...\n",
      "    loading package dis...\n",
      "    loading package obs...\n",
      "    loading package npf...\n",
      "    loading package sto...\n",
      "    loading package ic...\n",
      "    loading package chd...\n",
      "    loading package rch...\n",
      "    loading package evt...\n",
      "    loading package oc...\n",
      "    loading package lak...\n",
      "    loading package sfr...\n",
      "    loading package maw...\n",
      "  loading solution package ad-p1...\n"
     ]
    }
   ],
   "source": [
    "name = \"ad-p1\"\n",
    "ws = Path(f\"./temp/{name}\")\n",
    "\n",
    "sim = flopy.mf6.MFSimulation.load(\n",
    "    sim_name=name,\n",
    "    exe_name=\"mf6\",\n",
    "    sim_ws=ws,\n",
    ")"
   ]
  },
  {
   "cell_type": "markdown",
   "id": "39bb1ef2-26c4-4c9e-8855-c2058f15e671",
   "metadata": {},
   "source": [
    "### Get the GWF model"
   ]
  },
  {
   "cell_type": "code",
   "execution_count": 3,
   "id": "f2e5cf5e-6aaa-49fc-9730-f3e836f5f813",
   "metadata": {},
   "outputs": [],
   "source": [
    "gwf = sim.get_model(\"ad-p1\")\n",
    "\n",
    "# get some needed parameter values\n",
    "nlay = gwf.dis.nlay.array"
   ]
  },
  {
   "cell_type": "markdown",
   "id": "64d87ffc-d8c1-4a52-ac35-835cb968fa11",
   "metadata": {},
   "source": [
    "### Add the UZF package"
   ]
  },
  {
   "cell_type": "code",
   "execution_count": 4,
   "id": "fa2928aa-0cbc-4221-8c18-8186838f4109",
   "metadata": {},
   "outputs": [],
   "source": [
    "# Define which row/column index the stack of uzf objects will appear in.\n",
    "# Recall that the pumping well is in row, column = 3, 13.\n",
    "# Place an irrigated field one column to the right (downhill)\n",
    "uzf_row, uzf_col = 3, 14\n",
    "vks = 0.1  # 0.001\n",
    "thts = gwf.sto.sy.array[0,0,0]\n",
    "thtr = 0.01\n",
    "thti = 0.05\n",
    "eps = 4\n",
    "\n",
    "uzf_pkdat = []\n",
    "\n",
    "for iuzno in np.arange(0, nlay, 1):\n",
    "    # only the top layer is needs land flag = 1\n",
    "    if iuzno == 0:\n",
    "        landflag = 1\n",
    "        surfdep = 0.1\n",
    "    else:\n",
    "        landflag = 0\n",
    "        surfdep = 0.0\n",
    "\n",
    "    # all but the bottom most layer have a vertical connection\n",
    "    if iuzno < nlay - 1:\n",
    "        ivertconn = iuzno + 1\n",
    "    else:\n",
    "        # bottom layer\n",
    "        ivertconn = -1\n",
    "        \n",
    "    # Add the UZF object to the packagedata list object\n",
    "    uzf_pkdat.append(\n",
    "        # ifno, cellid(l, r, c),           landflag,  ivertcon, surfdep, vks, thtr, thts, thti, eps\n",
    "        [iuzno, (iuzno, uzf_row, uzf_col), landflag, ivertconn, surfdep, vks, thtr, thts, thti, eps]\n",
    "    )\n",
    "\n",
    "# stress period data\n",
    "finf = 0.0\n",
    "pet = 0.0\n",
    "extdp = 0.0\n",
    "extwc = 0.0\n",
    "zero = 0.0\n",
    "\n",
    "uzf_spd = {\n",
    "    0: [[0, finf, pet, extdp, extwc, zero, zero, zero]],\n",
    "}\n"
   ]
  },
  {
   "cell_type": "code",
   "execution_count": 5,
   "id": "50f24b0e-54a9-4101-bc20-d830222862bf",
   "metadata": {},
   "outputs": [],
   "source": [
    "uzf = flopy.mf6.ModflowGwfuzf(\n",
    "        gwf,\n",
    "        print_flows=True,\n",
    "        save_flows=True,\n",
    "        wc_filerecord=name + \".uzfwc.bin\",\n",
    "        simulate_et=False,\n",
    "        simulate_gwseep=False,\n",
    "        linear_gwet=False,\n",
    "        boundnames=False,\n",
    "        ntrailwaves=15,\n",
    "        nwavesets=40,\n",
    "        #observations=uzf_obs,\n",
    "        nuzfcells=len(uzf_pkdat),\n",
    "        packagedata=uzf_pkdat,\n",
    "        perioddata=uzf_spd,\n",
    "        budget_filerecord=f\"{name}.uzf.bud\",\n",
    "        pname=\"UZF\",\n",
    "        filename=f\"{name}.uzf\",\n",
    "    )"
   ]
  },
  {
   "cell_type": "markdown",
   "id": "5b6e620c-6150-4bba-92dd-d52c140ccd56",
   "metadata": {},
   "source": [
    "### Setup MVR package\n",
    "\n",
    "Retrieve package names:"
   ]
  },
  {
   "cell_type": "code",
   "execution_count": 6,
   "id": "eca3319c-d25c-4479-a586-c2bebdab2121",
   "metadata": {},
   "outputs": [],
   "source": [
    "lak_nm = gwf.lak.package_name\n",
    "sfr_nm = gwf.sfr.package_name\n",
    "maw_nm = gwf.maw.package_name\n",
    "uzf_nm = gwf.uzf.package_name"
   ]
  },
  {
   "cell_type": "markdown",
   "id": "33a92159-c882-42e2-936c-958fb75962b6",
   "metadata": {},
   "source": [
    "### Update packages included in the MVR package"
   ]
  },
  {
   "cell_type": "code",
   "execution_count": 7,
   "id": "7181941b-4486-49ed-8102-8732cb636f75",
   "metadata": {},
   "outputs": [],
   "source": [
    "# activate the mover option within every package that will be used as a provider or a receiver\n",
    "gwf.sfr.mover = True\n",
    "gwf.lak.mover = True\n",
    "gwf.maw.mover = True\n",
    "gwf.uzf.mover = True\n",
    "\n",
    "#gwf.sfr.save_flows = True\n",
    "\n",
    "# add an outlet to the lake package\n",
    "gwf.lak.noutlet = 1\n",
    "#                  outletno, lakein, lakeout, couttype, invert, width, rough, slope\n",
    "gwf.lak.outlets = [(      0,      0,       0, 'manning', 142.0,  50.0,  0.03, 0.01)]"
   ]
  },
  {
   "cell_type": "code",
   "execution_count": 8,
   "id": "3854d120-3672-470c-81af-58ec98b97753",
   "metadata": {},
   "outputs": [
    {
     "data": {
      "text/plain": [
       "package_name = mvr\n",
       "filename = ad-p1.mvr\n",
       "package_type = mvr\n",
       "model_or_simulation_package = model\n",
       "model_name = ad-p1\n",
       "\n",
       "Block options\n",
       "--------------------\n",
       "print_flows\n",
       "{internal}\n",
       "(True)\n",
       "\n",
       "budget_filerecord\n",
       "{internal}\n",
       "(rec.array([('ad-p1.mvr.bud',)],\n",
       "          dtype=[('budgetfile', 'O')]))\n",
       "\n",
       "\n",
       "Block dimensions\n",
       "--------------------\n",
       "maxmvr\n",
       "{internal}\n",
       "(4)\n",
       "\n",
       "maxpackages\n",
       "{internal}\n",
       "(4)\n",
       "\n",
       "\n",
       "Block packages\n",
       "--------------------\n",
       "packages\n",
       "{internal}\n",
       "(rec.array([('lak_0',), ('sfr_0',), ('maw_0',), ('uzf',)],\n",
       "          dtype=[('pname', 'O')]))\n",
       "\n",
       "\n",
       "Block period\n",
       "--------------------\n",
       "perioddata\n",
       "{internal}\n",
       "(rec.array([('lak_0', 0, 'sfr_0', 0, 'factor', 1. ),\n",
       "           ('maw_0', 0, 'uzf', 0, 'factor', 0.5),\n",
       "           ('maw_0', 0, 'sfr_0', 2, 'factor', 0.5),\n",
       "           ('uzf', 0, 'sfr_0', 2, 'factor', 1. )],\n",
       "          dtype=[('pname1', 'O'), ('id1', '<i4'), ('pname2', 'O'), ('id2', '<i4'), ('mvrtype', 'O'), ('value', '<f8')]))\n",
       "\n"
      ]
     },
     "execution_count": 8,
     "metadata": {},
     "output_type": "execute_result"
    }
   ],
   "source": [
    "packages = [(lak_nm,), (sfr_nm,), (maw_nm,), (uzf_nm,)]\n",
    "pump_frac = 0.5\n",
    "\n",
    "mvr_pkdat = []\n",
    "\n",
    "# lak -> sfr (lake outlet)\n",
    "mvr_pkdat.append([lak_nm, 0, sfr_nm, 0, \"factor\", 1.0])\n",
    "\n",
    "# maw -> uzf (gw irrigation)\n",
    "mvr_pkdat.append([maw_nm, 0, uzf_nm, 0, \"factor\", pump_frac])\n",
    "\n",
    "# maw -> sfr (pump to stream for delivery somewhere downstream)\n",
    "mvr_pkdat.append([maw_nm, 0, sfr_nm, 2, \"factor\", 1 - pump_frac])\n",
    "\n",
    "# uzf -> sfr (irrigation tail-water plus any other runoff\n",
    "mvr_pkdat.append([uzf_nm, 0, sfr_nm, 2, \"factor\", 1.0])\n",
    "\n",
    "flopy.mf6.ModflowGwfmvr(\n",
    "    gwf,\n",
    "    maxmvr=len(mvr_pkdat),\n",
    "    budget_filerecord=f\"{name}.mvr.bud\",\n",
    "    maxpackages=len(packages),\n",
    "    print_flows=True,\n",
    "    packages=packages,\n",
    "    perioddata=mvr_pkdat,\n",
    ")"
   ]
  },
  {
   "cell_type": "markdown",
   "id": "3a871bef-ab79-4caf-b7af-5c33a7736419",
   "metadata": {},
   "source": [
    "### Write the simulation"
   ]
  },
  {
   "cell_type": "code",
   "execution_count": 9,
   "id": "fd2eb7f0-ff14-44e7-b706-8d12a083a485",
   "metadata": {},
   "outputs": [
    {
     "name": "stdout",
     "output_type": "stream",
     "text": [
      "writing simulation...\n",
      "  writing simulation name file...\n",
      "  writing simulation tdis package...\n",
      "  writing solution package ad-p1...\n",
      "  writing model ad-p1...\n",
      "    writing model name file...\n",
      "    writing package dis...\n",
      "    writing package obs_0...\n",
      "    writing package npf...\n",
      "    writing package sto...\n",
      "    writing package ic...\n",
      "    writing package chd_0...\n",
      "    writing package rcha_0...\n",
      "    writing package evta_0...\n",
      "    writing package oc...\n",
      "    writing package lak_obs...\n",
      "    writing package lak_0...\n",
      "INFORMATION: noutlets in ('gwf6', 'lak', 'dimensions') changed to 1 based on size of outlets\n",
      "    writing package sfr_obs...\n",
      "    writing package sfr_0...\n",
      "    writing package maw_0...\n",
      "    writing package uzf...\n",
      "    writing package mvr...\n"
     ]
    }
   ],
   "source": [
    "sim.write_simulation()"
   ]
  },
  {
   "cell_type": "markdown",
   "id": "e8dc3726-3a38-4a7a-995a-750df45d7d7b",
   "metadata": {},
   "source": [
    "### Run the simulation"
   ]
  },
  {
   "cell_type": "code",
   "execution_count": 10,
   "id": "fc541f49-76c5-4c89-98cf-ed4a7e43c51c",
   "metadata": {},
   "outputs": [
    {
     "name": "stdout",
     "output_type": "stream",
     "text": [
      "FloPy is using the following executable to run the model: C:\\conda3x64\\envs\\modflow6\\Scripts\\mf6.exe\n",
      "                                   MODFLOW 6\n",
      "                U.S. GEOLOGICAL SURVEY MODULAR HYDROLOGIC MODEL\n",
      "                  VERSION 6.5.0.dev2 (preliminary) 02/13/2024\n",
      "                               ***DEVELOP MODE***\n",
      "\n",
      "   MODFLOW 6 compiled May 16 2024 09:28:30 with Intel(R) Fortran Intel(R) 64\n",
      "   Compiler Classic for applications running on Intel(R) 64, Version 2021.7.1\n",
      "                             Build 20221019_000000\n",
      "\n",
      "This software is preliminary or provisional and is subject to \n",
      "revision. It is being provided to meet the need for timely best \n",
      "science. The software has not received final approval by the U.S. \n",
      "Geological Survey (USGS). No warranty, expressed or implied, is made \n",
      "by the USGS or the U.S. Government as to the functionality of the \n",
      "software and related material nor shall the fact of release \n",
      "constitute any such warranty. The software is provided on the \n",
      "condition that neither the USGS nor the U.S. Government shall be held \n",
      "liable for any damages resulting from the authorized or unauthorized \n",
      "use of the software.\n",
      "\n",
      " \n",
      " MODFLOW runs in SEQUENTIAL mode\n",
      " \n",
      " Run start date and time (yyyy/mm/dd hh:mm:ss): 2024/06/09 20:30:41\n",
      " \n",
      " Writing simulation list file: mfsim.lst\n",
      " Using Simulation name file: mfsim.nam\n",
      " \n",
      "    Solving:  Stress period:     1    Time step:     1\n",
      "    Solving:  Stress period:     1    Time step:     2\n",
      "    Solving:  Stress period:     1    Time step:     3\n",
      "    Solving:  Stress period:     1    Time step:     4\n",
      "    Solving:  Stress period:     1    Time step:     5\n",
      "    Solving:  Stress period:     1    Time step:     6\n",
      "    Solving:  Stress period:     1    Time step:     7\n",
      "    Solving:  Stress period:     1    Time step:     8\n",
      "    Solving:  Stress period:     1    Time step:     9\n",
      "    Solving:  Stress period:     1    Time step:    10\n",
      "    Solving:  Stress period:     1    Time step:    11\n",
      "    Solving:  Stress period:     1    Time step:    12\n",
      "    Solving:  Stress period:     1    Time step:    13\n",
      "    Solving:  Stress period:     1    Time step:    14\n",
      "    Solving:  Stress period:     1    Time step:    15\n",
      "    Solving:  Stress period:     1    Time step:    16\n",
      "    Solving:  Stress period:     1    Time step:    17\n",
      "    Solving:  Stress period:     1    Time step:    18\n",
      "    Solving:  Stress period:     1    Time step:    19\n",
      "    Solving:  Stress period:     1    Time step:    20\n",
      "    Solving:  Stress period:     1    Time step:    21\n",
      "    Solving:  Stress period:     1    Time step:    22\n",
      "    Solving:  Stress period:     1    Time step:    23\n",
      "    Solving:  Stress period:     1    Time step:    24\n",
      "    Solving:  Stress period:     1    Time step:    25\n",
      "    Solving:  Stress period:     1    Time step:    26\n",
      "    Solving:  Stress period:     1    Time step:    27\n",
      "    Solving:  Stress period:     1    Time step:    28\n",
      "    Solving:  Stress period:     1    Time step:    29\n",
      "    Solving:  Stress period:     1    Time step:    30\n",
      "    Solving:  Stress period:     1    Time step:    31\n",
      "    Solving:  Stress period:     1    Time step:    32\n",
      "    Solving:  Stress period:     1    Time step:    33\n",
      "    Solving:  Stress period:     1    Time step:    34\n",
      "    Solving:  Stress period:     1    Time step:    35\n",
      "    Solving:  Stress period:     1    Time step:    36\n",
      "    Solving:  Stress period:     1    Time step:    37\n",
      "    Solving:  Stress period:     1    Time step:    38\n",
      "    Solving:  Stress period:     1    Time step:    39\n",
      "    Solving:  Stress period:     1    Time step:    40\n",
      "    Solving:  Stress period:     1    Time step:    41\n",
      "    Solving:  Stress period:     1    Time step:    42\n",
      "    Solving:  Stress period:     1    Time step:    43\n",
      "    Solving:  Stress period:     1    Time step:    44\n",
      "    Solving:  Stress period:     1    Time step:    45\n",
      "    Solving:  Stress period:     1    Time step:    46\n",
      "    Solving:  Stress period:     1    Time step:    47\n",
      "    Solving:  Stress period:     1    Time step:    48\n",
      "    Solving:  Stress period:     1    Time step:    49\n",
      "    Solving:  Stress period:     1    Time step:    50\n",
      "    Solving:  Stress period:     1    Time step:    51\n",
      "    Solving:  Stress period:     1    Time step:    52\n",
      "    Solving:  Stress period:     1    Time step:    53\n",
      "    Solving:  Stress period:     1    Time step:    54\n",
      "    Solving:  Stress period:     1    Time step:    55\n",
      "    Solving:  Stress period:     1    Time step:    56\n",
      "    Solving:  Stress period:     1    Time step:    57\n",
      "    Solving:  Stress period:     1    Time step:    58\n",
      "    Solving:  Stress period:     1    Time step:    59\n",
      "    Solving:  Stress period:     1    Time step:    60\n",
      "    Solving:  Stress period:     1    Time step:    61\n",
      "    Solving:  Stress period:     1    Time step:    62\n",
      "    Solving:  Stress period:     1    Time step:    63\n",
      "    Solving:  Stress period:     1    Time step:    64\n",
      "    Solving:  Stress period:     1    Time step:    65\n",
      "    Solving:  Stress period:     1    Time step:    66\n",
      "    Solving:  Stress period:     1    Time step:    67\n",
      "    Solving:  Stress period:     1    Time step:    68\n",
      "    Solving:  Stress period:     1    Time step:    69\n",
      "    Solving:  Stress period:     1    Time step:    70\n",
      "    Solving:  Stress period:     1    Time step:    71\n",
      "    Solving:  Stress period:     1    Time step:    72\n",
      "    Solving:  Stress period:     1    Time step:    73\n",
      "    Solving:  Stress period:     1    Time step:    74\n",
      "    Solving:  Stress period:     1    Time step:    75\n",
      "    Solving:  Stress period:     1    Time step:    76\n",
      "    Solving:  Stress period:     1    Time step:    77\n",
      "    Solving:  Stress period:     1    Time step:    78\n",
      "    Solving:  Stress period:     1    Time step:    79\n",
      "    Solving:  Stress period:     1    Time step:    80\n",
      "    Solving:  Stress period:     1    Time step:    81\n",
      "    Solving:  Stress period:     1    Time step:    82\n",
      "    Solving:  Stress period:     1    Time step:    83\n",
      "    Solving:  Stress period:     1    Time step:    84\n",
      "    Solving:  Stress period:     1    Time step:    85\n",
      "    Solving:  Stress period:     1    Time step:    86\n",
      "    Solving:  Stress period:     1    Time step:    87\n",
      "    Solving:  Stress period:     1    Time step:    88\n",
      "    Solving:  Stress period:     1    Time step:    89\n",
      "    Solving:  Stress period:     1    Time step:    90\n",
      "    Solving:  Stress period:     1    Time step:    91\n",
      "    Solving:  Stress period:     1    Time step:    92\n",
      "    Solving:  Stress period:     1    Time step:    93\n",
      "    Solving:  Stress period:     1    Time step:    94\n",
      "    Solving:  Stress period:     1    Time step:    95\n",
      "    Solving:  Stress period:     1    Time step:    96\n",
      "    Solving:  Stress period:     1    Time step:    97\n",
      "    Solving:  Stress period:     1    Time step:    98\n",
      "    Solving:  Stress period:     1    Time step:    99\n",
      "    Solving:  Stress period:     1    Time step:   100\n",
      " \n",
      " Run end date and time (yyyy/mm/dd hh:mm:ss): 2024/06/09 20:30:53\n",
      " Elapsed run time: 12.146 Seconds\n",
      " \n",
      " Normal termination of simulation.\n"
     ]
    },
    {
     "data": {
      "text/plain": [
       "(True, [])"
      ]
     },
     "execution_count": 10,
     "metadata": {},
     "output_type": "execute_result"
    }
   ],
   "source": [
    "sim.run_simulation()"
   ]
  },
  {
   "cell_type": "markdown",
   "id": "954585bd-c65d-4336-87ec-42ffbeffad39",
   "metadata": {},
   "source": [
    "### Have another look at the output"
   ]
  },
  {
   "cell_type": "code",
   "execution_count": 11,
   "id": "20c402f3-6606-416f-bc18-6c55bc78dece",
   "metadata": {},
   "outputs": [],
   "source": [
    "extents = (0.0, gwf.dis.delr.array.sum(), 0.0, gwf.dis.delc.array.sum())\n",
    "\n",
    "# load the observations\n",
    "lak_results = gwf.lak.output.obs().data\n",
    "sfr_results = gwf.sfr.output.obs().data\n",
    "gwf_results = gwf.obs[0].output.obs().data\n",
    "\n",
    "# Figure properties\n",
    "figure_size = (6.3, 5.6)\n",
    "masked_values = (0, 1e30, -1e30)\n",
    "\n",
    "# create MODFLOW 6 head object\n",
    "hobj = gwf.output.head()\n",
    "\n",
    "# create MODFLOW 6 cell-by-cell budget object\n",
    "cobj = gwf.output.budget()\n",
    "\n",
    "kstpkper = hobj.get_kstpkper()\n",
    "\n",
    "head = hobj.get_data(kstpkper=kstpkper[0])\n",
    "qx, qy, qz = flopy.utils.postprocessing.get_specific_discharge(\n",
    "cobj.get_data(text=\"DATA-SPDIS\", kstpkper=kstpkper[0])[0],\n",
    "gwf,\n",
    ")\n",
    "\n",
    "# add lake stage to heads\n",
    "head[head == 1e30] = lak_results[\"STAGE\"][-1]\n",
    "\n",
    "# observation locations\n",
    "xcenters, ycenters = gwf.modelgrid.xycenters[0], gwf.modelgrid.xycenters[1]\n",
    "p1 = (xcenters[3], ycenters[3])\n",
    "p2 = (xcenters[13], ycenters[13])\n",
    "\n",
    "shape3d = (gwf.dis.nlay.array, gwf.dis.nrow.array, gwf.dis.ncol.array)"
   ]
  },
  {
   "cell_type": "code",
   "execution_count": 12,
   "id": "2a46f3fb-9cc9-456c-8d60-61bfbb3b83da",
   "metadata": {},
   "outputs": [
    {
     "data": {
      "image/png": "[encoded data removed]",
      "text/plain": [
       "<Figure size 400x690 with 2 Axes>"
      ]
     },
     "metadata": {},
     "output_type": "display_data"
    }
   ],
   "source": [
    "fig, axd = plt.subplot_mosaic(\n",
    "    [\n",
    "        [\"a\"],\n",
    "        [\"a\"],\n",
    "        [\"b\"],\n",
    "    ],\n",
    "    layout=\"constrained\", \n",
    "    figsize=(4, 6.9),\n",
    "    )\n",
    "\n",
    "ax = axd[\"a\"]\n",
    "mm = flopy.plot.PlotMapView(gwf, ax=ax, extent=extents)\n",
    "mm.plot_bc(\"CHD\", color=\"cyan\")\n",
    "mm.plot_inactive(color_noflow=\"#5DBB63\")\n",
    "mm.plot_grid(lw=0.5, color=\"black\")\n",
    "cv = mm.contour_array(\n",
    "    head,\n",
    "    levels=np.arange(140, 160, 2),\n",
    "    linewidths=0.75,\n",
    "    linestyles=\"-\",\n",
    "    colors=\"blue\",\n",
    ")\n",
    "plt.clabel(cv, fmt=\"%1.0f\")\n",
    "mm.plot_vector(qx, qy, normalize=True, color=\"0.75\")\n",
    "ax.plot(p1[0], p1[1], marker=\"o\", mfc=\"red\", mec=\"black\", ms=4)\n",
    "ax.plot(p2[0], p2[1], marker=\"o\", mfc=\"red\", mec=\"black\", ms=4)\n",
    "ax.set_xlabel(\"x-coordinate, in feet\")\n",
    "ax.set_ylabel(\"y-coordinate, in feet\")\n",
    "\n",
    "ax = axd[\"b\"]\n",
    "xs = flopy.plot.PlotCrossSection(gwf, ax=ax, line={\"row\": 8})\n",
    "xs.plot_array(np.ones(shape3d), head=head, cmap=\"jet\")\n",
    "xs.plot_bc(\"CHD\", color=\"cyan\", head=head)\n",
    "xs.plot_ibound(color_noflow=\"#5DBB63\", head=head)\n",
    "xs.plot_grid(lw=0.5, color=\"black\")\n",
    "ax.set_xlabel(\"x-coordinate, in feet\")\n",
    "ax.set_ylim(67, 160)\n",
    "ax.set_ylabel(\"Elevation, in feet\")\n",
    "\n",
    "\n",
    "plt.show()"
   ]
  },
  {
   "cell_type": "code",
   "execution_count": 13,
   "id": "d66867d2-428a-428e-b2a6-a4b14d64de69",
   "metadata": {},
   "outputs": [
    {
     "name": "stdout",
     "output_type": "stream",
     "text": [
      "d:\\edm_lt\\github\\mf6_dev\\princeton_shortcourse.git\\examples\\notebooks_completed\\temp\\ad-p1\n"
     ]
    }
   ],
   "source": [
    "print(sim.sim_path)"
   ]
  },
  {
   "cell_type": "code",
   "execution_count": 14,
   "id": "c22dc53c-ad5e-4dc9-8eec-3a1762b4c37a",
   "metadata": {},
   "outputs": [],
   "source": [
    "lst_pth = ws / f\"{name}.lst\"\n",
    "budget_key = \"WATER MOVER BUDGET FOR ENTIRE MODEL AT END OF TIME STEP  100\"\n",
    "lst = flopy.utils.MfListBudget(lst_pth, budgetkey=budget_key)"
   ]
  },
  {
   "cell_type": "code",
   "execution_count": 15,
   "id": "9501e034-adc1-4c5f-b6f3-a64195f5b5f7",
   "metadata": {},
   "outputs": [
    {
     "data": {
      "text/plain": [
       "(               LAK_0_IN  SFR_0_IN  MAW_0_IN  UZF_IN      TOTAL_IN  LAK_0_OUT  \\\n",
       " 1983-09-10  2982.862793       0.0   10000.0     0.0  12982.863281        0.0   \n",
       " \n",
       "               SFR_0_OUT  MAW_0_OUT  UZF_OUT     TOTAL_OUT  IN-OUT  \\\n",
       " 1983-09-10  7982.862793        0.0   5000.0  12982.863281     0.0   \n",
       " \n",
       "             PERCENT_DISCREPANCY  \n",
       " 1983-09-10                  0.0  ,\n",
       "              LAK_0_IN  SFR_0_IN    MAW_0_IN  UZF_IN    TOTAL_IN  LAK_0_OUT  \\\n",
       " 1983-09-10  9343214.0       0.0  50000000.0     0.0  59343212.0        0.0   \n",
       " \n",
       "              SFR_0_OUT  MAW_0_OUT     UZF_OUT   TOTAL_OUT  IN-OUT  \\\n",
       " 1983-09-10  34343212.0        0.0  25000000.0  59343212.0     0.0   \n",
       " \n",
       "             PERCENT_DISCREPANCY  \n",
       " 1983-09-10                  0.0  )"
      ]
     },
     "execution_count": 15,
     "metadata": {},
     "output_type": "execute_result"
    }
   ],
   "source": [
    "lst.get_dataframes()"
   ]
  }
 ],
 "metadata": {
  "kernelspec": {
   "display_name": "Python 3 (ipykernel)",
   "language": "python",
   "name": "python3"
  },
  "language_info": {
   "codemirror_mode": {
    "name": "ipython",
    "version": 3
   },
   "file_extension": ".py",
   "mimetype": "text/x-python",
   "name": "python",
   "nbconvert_exporter": "python",
   "pygments_lexer": "ipython3",
   "version": "3.11.4"
  }
 },
 "nbformat": 4,
 "nbformat_minor": 5
}
