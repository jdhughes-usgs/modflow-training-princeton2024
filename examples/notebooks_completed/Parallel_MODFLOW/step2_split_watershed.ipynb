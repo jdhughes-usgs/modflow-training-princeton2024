{
 "cells": [
  {
   "cell_type": "markdown",
   "metadata": {},
   "source": [
    "# Split the watershed"
   ]
  },
  {
   "cell_type": "code",
   "execution_count": 32,
   "metadata": {},
   "outputs": [],
   "source": [
    "import matplotlib.pyplot as plt\n",
    "import pathlib as pl\n",
    "import numpy as np\n",
    "import flopy\n",
    "from flopy.mf6.utils import Mf6Splitter\n",
    "\n",
    "from defaults import *"
   ]
  },
  {
   "cell_type": "markdown",
   "metadata": {},
   "source": [
    "### Get the model directories for the base and the parallel simulations"
   ]
  },
  {
   "cell_type": "code",
   "execution_count": 33,
   "metadata": {},
   "outputs": [],
   "source": [
    "base_dir = get_base_dir()\n",
    "parallel_dir = get_parallel_dir()"
   ]
  },
  {
   "cell_type": "markdown",
   "metadata": {},
   "source": [
    "### Load base simulation data"
   ]
  },
  {
   "cell_type": "code",
   "execution_count": 34,
   "metadata": {},
   "outputs": [
    {
     "name": "stdout",
     "output_type": "stream",
     "text": [
      "loading simulation...\n",
      "  loading simulation name file...\n",
      "  loading tdis package...\n",
      "  loading model gwf6...\n",
      "    loading package dis...\n",
      "    loading package ic...\n",
      "    loading package npf...\n",
      "    loading package rch...\n",
      "    loading package drn...\n",
      "    loading package drn...\n",
      "    loading package oc...\n",
      "  loading solution package model...\n"
     ]
    }
   ],
   "source": [
    "base_sim = flopy.mf6.MFSimulation.load(\n",
    "    sim_ws=base_dir,\n",
    ")"
   ]
  },
  {
   "cell_type": "markdown",
   "metadata": {},
   "source": [
    "there is only one model in there:"
   ]
  },
  {
   "cell_type": "code",
   "execution_count": 35,
   "metadata": {},
   "outputs": [],
   "source": [
    "gwf = base_sim.get_model()\n",
    "nrow = gwf.modelgrid.nrow\n",
    "ncol = gwf.modelgrid.ncol"
   ]
  },
  {
   "cell_type": "markdown",
   "metadata": {},
   "source": [
    "### Split into domains"
   ]
  },
  {
   "cell_type": "markdown",
   "metadata": {},
   "source": [
    "Decide in how many domains you want to split. You might want to check how many cores you have. On Windows this will show in the Task manager:\n",
    "\n",
    "\n",
    "<img src=\"./cpus.png\" alt=\"drawing\" width=\"700\"/>\n",
    "\n",
    "On Linux you can run the `lscpu` command and look for `Core(s) per socket:`."
   ]
  },
  {
   "cell_type": "code",
   "execution_count": 36,
   "metadata": {},
   "outputs": [],
   "source": [
    "nr_domains = 2"
   ]
  },
  {
   "cell_type": "markdown",
   "metadata": {},
   "source": [
    "Create the FloPy Model Splitter"
   ]
  },
  {
   "cell_type": "code",
   "execution_count": 37,
   "metadata": {},
   "outputs": [],
   "source": [
    "mfsplit = Mf6Splitter(base_sim)"
   ]
  },
  {
   "cell_type": "markdown",
   "metadata": {},
   "source": [
    "Create the splitting array to assign groups of cells to a domain number. We either use Metis for partitioning or, apply a straightforward division into rectangular slices"
   ]
  },
  {
   "cell_type": "code",
   "execution_count": 38,
   "metadata": {},
   "outputs": [],
   "source": [
    "use_metis = False\n",
    "if use_metis:\n",
    " split_array = mfsplit.optimize_splitting_mask(nparts=nr_domains)\n",
    "else:\n",
    "  split_array = np.zeros((nrow, ncol), dtype=int)\n",
    "  for irow in range(nrow):\n",
    "    for icol in range(ncol):      \n",
    "      isub = np.floor(icol / (ncol / nr_domains))\n",
    "      split_array[irow, icol] = isub"
   ]
  },
  {
   "cell_type": "markdown",
   "metadata": {},
   "source": [
    "Plot the splitting array as a plan view and cut the inactive cells out"
   ]
  },
  {
   "cell_type": "code",
   "execution_count": 39,
   "metadata": {},
   "outputs": [],
   "source": [
    "import warnings\n",
    "warnings.filterwarnings(\"ignore\", category=DeprecationWarning) "
   ]
  },
  {
   "cell_type": "code",
   "execution_count": 40,
   "metadata": {},
   "outputs": [
    {
     "data": {
      "text/plain": [
       "<matplotlib.colorbar.Colorbar at 0x24f9db67470>"
      ]
     },
     "execution_count": 40,
     "metadata": {},
     "output_type": "execute_result"
    },
    {
     "data": {
      "image/png": "[encoded data removed]",
      "text/plain": [
       "<Figure size 640x480 with 2 Axes>"
      ]
     },
     "metadata": {},
     "output_type": "display_data"
    }
   ],
   "source": [
    "pmv = flopy.plot.PlotMapView(model=gwf, layer=0)\n",
    "pa = pmv.plot_array(split_array)\n",
    "pmv.plot_inactive(color_noflow=\"white\")\n",
    "plt.ylabel(\"row\")\n",
    "plt.xlabel(\"column\")\n",
    "plt.colorbar(pa, shrink=0.6)"
   ]
  },
  {
   "cell_type": "markdown",
   "metadata": {},
   "source": [
    "### Split the simulation into domains"
   ]
  },
  {
   "cell_type": "code",
   "execution_count": 41,
   "metadata": {},
   "outputs": [],
   "source": [
    "parallel_sim = mfsplit.split_model(split_array)"
   ]
  },
  {
   "cell_type": "markdown",
   "metadata": {},
   "source": [
    "### HPC file\n",
    "Get the models from the splitted simulation"
   ]
  },
  {
   "cell_type": "code",
   "execution_count": 42,
   "metadata": {},
   "outputs": [],
   "source": [
    "models = [parallel_sim.get_model(mname) for mname in parallel_sim.model_names]"
   ]
  },
  {
   "cell_type": "markdown",
   "metadata": {},
   "source": [
    "Create the partition data for the HPC file"
   ]
  },
  {
   "cell_type": "code",
   "execution_count": 43,
   "metadata": {},
   "outputs": [
    {
     "name": "stdout",
     "output_type": "stream",
     "text": [
      "[['model_0', 0], ['model_1', 1]]\n"
     ]
    }
   ],
   "source": [
    "partition_data = [[m.name, i] for i, m in enumerate(models)]\n",
    "print(partition_data)"
   ]
  },
  {
   "cell_type": "markdown",
   "metadata": {},
   "source": [
    "Add the package to the FloPy simulation "
   ]
  },
  {
   "cell_type": "code",
   "execution_count": 44,
   "metadata": {},
   "outputs": [],
   "source": [
    "hpc = flopy.mf6.ModflowUtlhpc(parallel_sim, partitions=partition_data)"
   ]
  },
  {
   "cell_type": "markdown",
   "metadata": {},
   "source": [
    "Now write the simulation to disk. Also write the lookup table from the splitter so we can recombine the data to represent a single domain further below"
   ]
  },
  {
   "cell_type": "code",
   "execution_count": 45,
   "metadata": {},
   "outputs": [
    {
     "name": "stdout",
     "output_type": "stream",
     "text": [
      "writing simulation...\n",
      "  writing simulation name file...\n",
      "  writing simulation tdis package...\n",
      "  writing solution package ims_-1...\n",
      "  writing package sim_0_1.gwfgwf...\n",
      "  writing package sim.hpc...\n",
      "  writing model model_0...\n",
      "    writing model name file...\n",
      "    writing package dis...\n",
      "    writing package ic...\n",
      "    writing package npf...\n",
      "    writing package rcha_0...\n",
      "    writing package river...\n",
      "    writing package gwd...\n",
      "    writing package oc...\n",
      "  writing model model_1...\n",
      "    writing model name file...\n",
      "    writing package dis...\n",
      "    writing package ic...\n",
      "    writing package npf...\n",
      "    writing package rcha_0...\n",
      "    writing package river...\n",
      "    writing package gwd...\n",
      "    writing package oc...\n"
     ]
    }
   ],
   "source": [
    "parallel_sim.set_sim_path(parallel_dir)\n",
    "parallel_sim.write_simulation()\n",
    "mfsplit.save_node_mapping(parallel_dir / \"mfsplit_node_mapping.json\")"
   ]
  },
  {
   "cell_type": "markdown",
   "metadata": {},
   "source": [
    "Plot the contours of the subdomains"
   ]
  },
  {
   "cell_type": "code",
   "execution_count": 46,
   "metadata": {},
   "outputs": [
    {
     "data": {
      "image/png": "[encoded data removed]",
      "text/plain": [
       "<Figure size 708.661x389.764 with 2 Axes>"
      ]
     },
     "metadata": {},
     "output_type": "display_data"
    }
   ],
   "source": [
    "fig = plt.figure(figsize=(figwidth, 0.55*figheight))\n",
    "\n",
    "for i,m in enumerate(parallel_sim.model_names):\n",
    "  ax = fig.add_subplot(1,nr_domains,i+1)\n",
    "  pmv = flopy.plot.PlotMapView(models[i])\n",
    "  idomain = models[i].modelgrid.idomain\n",
    "  pmv.plot_array(idomain[0], vmax=2)\n",
    "  \n",
    "  ax.set_xticklabels([])\n",
    "  ax.set_yticklabels([])\n",
    "\n"
   ]
  },
  {
   "cell_type": "markdown",
   "metadata": {},
   "source": [
    "Check if the model partitions are evenly split"
   ]
  },
  {
   "cell_type": "code",
   "execution_count": 47,
   "metadata": {},
   "outputs": [
    {
     "name": "stdout",
     "output_type": "stream",
     "text": [
      "Nr. of active cells in model_0: 5640\n",
      "Nr. of active cells in model_1: 4775\n"
     ]
    }
   ],
   "source": [
    "for m in models:\n",
    "  idomain = m.modelgrid.idomain\n",
    "  print(f\"Nr. of active cells in {m.name}:\", np.count_nonzero(idomain))\n",
    "  "
   ]
  },
  {
   "cell_type": "code",
   "execution_count": null,
   "metadata": {},
   "outputs": [],
   "source": []
  }
 ],
 "metadata": {
  "kernelspec": {
   "display_name": "Python 3 (ipykernel)",
   "language": "python",
   "name": "python3"
  },
  "language_info": {
   "codemirror_mode": {
    "name": "ipython",
    "version": 3
   },
   "file_extension": ".py",
   "mimetype": "text/x-python",
   "name": "python",
   "nbconvert_exporter": "python",
   "pygments_lexer": "ipython3",
   "version": "3.12.0"
  }
 },
 "nbformat": 4,
 "nbformat_minor": 4
}
